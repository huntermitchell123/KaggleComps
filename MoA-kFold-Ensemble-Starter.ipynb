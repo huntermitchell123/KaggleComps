{
 "cells": [
  {
   "cell_type": "markdown",
   "metadata": {
    "papermill": {
     "duration": 0.026508,
     "end_time": "2020-09-17T01:05:11.773609",
     "exception": false,
     "start_time": "2020-09-17T01:05:11.747101",
     "status": "completed"
    },
    "tags": []
   },
   "source": [
    "## Intro"
   ]
  },
  {
   "cell_type": "markdown",
   "metadata": {
    "papermill": {
     "duration": 0.02357,
     "end_time": "2020-09-17T01:05:11.821663",
     "exception": false,
     "start_time": "2020-09-17T01:05:11.798093",
     "status": "completed"
    },
    "tags": []
   },
   "source": [
    "This kernel serves as a stratified k-fold ensemble approach baseline for the MoA (Mechanisms of Action) kaggle competition. The 3 models I have seen mostly used for this competition are Neural Networks, XGBoost (or some other boosted tree model), and Logistic Regression. Here I present a simple starter notebook to ensemble these three models with cross validation."
   ]
  },
  {
   "cell_type": "markdown",
   "metadata": {
    "papermill": {
     "duration": 0.025626,
     "end_time": "2020-09-17T01:05:11.870929",
     "exception": false,
     "start_time": "2020-09-17T01:05:11.845303",
     "status": "completed"
    },
    "tags": []
   },
   "source": [
    "There are many ways to improve the validation and leaderboard score from this notebook. Here are some ideas to experiment with:\n",
    "* Principal Component Analysis\n",
    "* Grid search to optimize model hyperparameters\n",
    "* Experimenting with number of epochs, number of layers, types of layers, learning rate, etc. for Neural Network\n",
    "* Bagging/boosting with other models"
   ]
  },
  {
   "cell_type": "markdown",
   "metadata": {
    "papermill": {
     "duration": 0.023891,
     "end_time": "2020-09-17T01:05:11.919395",
     "exception": false,
     "start_time": "2020-09-17T01:05:11.895504",
     "status": "completed"
    },
    "tags": []
   },
   "source": [
    "## Getting everything ready"
   ]
  },
  {
   "cell_type": "markdown",
   "metadata": {
    "papermill": {
     "duration": 0.0242,
     "end_time": "2020-09-17T01:05:11.967395",
     "exception": false,
     "start_time": "2020-09-17T01:05:11.943195",
     "status": "completed"
    },
    "tags": []
   },
   "source": [
    "We will be using a multi-label stratified K-fold. Scikit-learn doesn't support this, but there is one located in this GitHub repository: [https://github.com/trent-b/iterative-stratification](http://) . We would normally be able to install this package with a simple pip command, but the competition rules state no internet use is allowed. Therefore, we will have to manually add this to our input."
   ]
  },
  {
   "cell_type": "code",
   "execution_count": 1,
   "metadata": {
    "_cell_guid": "b1076dfc-b9ad-4769-8c92-a6c4dae69d19",
    "_uuid": "8f2839f25d086af736a60e9eeb907d3b93b6e0e5",
    "execution": {
     "iopub.execute_input": "2020-09-17T01:05:12.030659Z",
     "iopub.status.busy": "2020-09-17T01:05:12.030000Z",
     "iopub.status.idle": "2020-09-17T01:05:19.364763Z",
     "shell.execute_reply": "2020-09-17T01:05:19.363200Z"
    },
    "papermill": {
     "duration": 7.370945,
     "end_time": "2020-09-17T01:05:19.364893",
     "exception": false,
     "start_time": "2020-09-17T01:05:11.993948",
     "status": "completed"
    },
    "tags": []
   },
   "outputs": [],
   "source": [
    "### Importing necessary libraries\n",
    "\n",
    "import sys\n",
    "sys.path.append('/kaggle/input/iterativestratification') # Multilabel Stratified K-Fold package\n",
    "\n",
    "from iterstrat.ml_stratifiers import MultilabelStratifiedKFold\n",
    "\n",
    "import numpy as np \n",
    "import pandas as pd \n",
    "\n",
    "import tensorflow as tf\n",
    "import tensorflow.keras.layers as L\n",
    "\n",
    "from xgboost import XGBClassifier\n",
    "\n",
    "from sklearn.linear_model import LogisticRegression\n",
    "from sklearn.multioutput import MultiOutputClassifier\n",
    "from sklearn.metrics import log_loss\n",
    "\n",
    "import time\n",
    "\n",
    "import category_encoders as ce\n",
    "\n",
    "%matplotlib inline\n",
    "\n",
    "import matplotlib\n",
    "import matplotlib.pyplot as plt"
   ]
  },
  {
   "cell_type": "code",
   "execution_count": 2,
   "metadata": {
    "execution": {
     "iopub.execute_input": "2020-09-17T01:05:19.427893Z",
     "iopub.status.busy": "2020-09-17T01:05:19.426886Z",
     "iopub.status.idle": "2020-09-17T01:05:19.429848Z",
     "shell.execute_reply": "2020-09-17T01:05:19.429345Z"
    },
    "papermill": {
     "duration": 0.03877,
     "end_time": "2020-09-17T01:05:19.429951",
     "exception": false,
     "start_time": "2020-09-17T01:05:19.391181",
     "status": "completed"
    },
    "tags": []
   },
   "outputs": [],
   "source": [
    "### Settings\n",
    "\n",
    "SEED = 2020 \n",
    "FOLDS = 4\n",
    "EPOCHS = 25\n",
    "BATCH_SIZE = 128\n",
    "\n",
    "\n",
    "# Which models to use\n",
    "include_xgboost = True\n",
    "include_neural_net = True\n",
    "include_logreg = False\n",
    "\n",
    "\n",
    "lr_start=0.0001\n",
    "lr_max=0.0003\n",
    "lr_min=0.00001\n",
    "lr_rampup_epochs=5\n",
    "lr_sustain_epochs=2\n",
    "lr_exp_decay=.7"
   ]
  },
  {
   "cell_type": "code",
   "execution_count": 3,
   "metadata": {
    "_cell_guid": "79c7e3d0-c299-4dcb-8224-4455121ee9b0",
    "_uuid": "d629ff2d2480ee46fbb7e2d37f6b5fab8052498a",
    "execution": {
     "iopub.execute_input": "2020-09-17T01:05:19.491296Z",
     "iopub.status.busy": "2020-09-17T01:05:19.490359Z",
     "iopub.status.idle": "2020-09-17T01:05:25.424726Z",
     "shell.execute_reply": "2020-09-17T01:05:25.423499Z"
    },
    "papermill": {
     "duration": 5.969808,
     "end_time": "2020-09-17T01:05:25.424847",
     "exception": false,
     "start_time": "2020-09-17T01:05:19.455039",
     "status": "completed"
    },
    "tags": []
   },
   "outputs": [],
   "source": [
    "### Creating dataframes\n",
    "\n",
    "TEST_FEATURES_PATH = \"/kaggle/input/lish-moa/test_features.csv\"\n",
    "TRAIN_FEATURES_PATH = \"/kaggle/input/lish-moa/train_features.csv\"\n",
    "TRAIN_TARGETS_PATH = \"/kaggle/input/lish-moa/train_targets_scored.csv\"\n",
    "TRAIN_TARGETS_NONSCORED_PATH = \"/kaggle/input/lish-moa/train_targets_nonscored.csv\"\n",
    "SAMPLE_SUB_PATH = \"/kaggle/input/lish-moa/sample_submission.csv\"\n",
    "\n",
    "test_features_df = pd.read_csv(TEST_FEATURES_PATH).sort_values(by='sig_id')\n",
    "train_features_df = pd.read_csv(TRAIN_FEATURES_PATH).sort_values(by='sig_id')\n",
    "train_targets_df = pd.read_csv(TRAIN_TARGETS_PATH).sort_values(by='sig_id')\n",
    "train_targets_nonscored_df = pd.read_csv(TRAIN_TARGETS_NONSCORED_PATH)\n",
    "sample_sub_df = pd.read_csv(SAMPLE_SUB_PATH).sort_values(by='sig_id')"
   ]
  },
  {
   "cell_type": "markdown",
   "metadata": {
    "papermill": {
     "duration": 0.028485,
     "end_time": "2020-09-17T01:05:25.480896",
     "exception": false,
     "start_time": "2020-09-17T01:05:25.452411",
     "status": "completed"
    },
    "tags": []
   },
   "source": [
    "## Understanding our data set"
   ]
  },
  {
   "cell_type": "code",
   "execution_count": 4,
   "metadata": {
    "execution": {
     "iopub.execute_input": "2020-09-17T01:05:25.540424Z",
     "iopub.status.busy": "2020-09-17T01:05:25.538503Z",
     "iopub.status.idle": "2020-09-17T01:05:25.541664Z",
     "shell.execute_reply": "2020-09-17T01:05:25.542269Z"
    },
    "papermill": {
     "duration": 0.035586,
     "end_time": "2020-09-17T01:05:25.542435",
     "exception": false,
     "start_time": "2020-09-17T01:05:25.506849",
     "status": "completed"
    },
    "tags": []
   },
   "outputs": [],
   "source": [
    "### Features\n",
    "#print(train_features_df.head()) \n",
    "#print(train_features_df.describe())\n",
    "\n",
    "\n",
    "### Labels\n",
    "#print(train_targets_df.head())\n",
    "#print(train_targets_df.describe())\n",
    "\n",
    "\n",
    "### Submission\n",
    "#print(sample_sub_df.head())"
   ]
  },
  {
   "cell_type": "markdown",
   "metadata": {
    "papermill": {
     "duration": 0.025701,
     "end_time": "2020-09-17T01:05:25.595814",
     "exception": false,
     "start_time": "2020-09-17T01:05:25.570113",
     "status": "completed"
    },
    "tags": []
   },
   "source": [
    "We are using 875 features to predict binary labels on 206 different classes. We have 23,814 instances to train on, and each instance can be multiple different classes. This makes this a multi-label classification problem."
   ]
  },
  {
   "cell_type": "markdown",
   "metadata": {
    "papermill": {
     "duration": 0.026159,
     "end_time": "2020-09-17T01:05:25.647319",
     "exception": false,
     "start_time": "2020-09-17T01:05:25.621160",
     "status": "completed"
    },
    "tags": []
   },
   "source": [
    "It is always a good idea to look at the distribution of positive vs negative labels in each class. This helps us know how to split our training data better, and know what to look for in results."
   ]
  },
  {
   "cell_type": "code",
   "execution_count": 5,
   "metadata": {
    "execution": {
     "iopub.execute_input": "2020-09-17T01:05:25.722281Z",
     "iopub.status.busy": "2020-09-17T01:05:25.719932Z",
     "iopub.status.idle": "2020-09-17T01:05:25.911511Z",
     "shell.execute_reply": "2020-09-17T01:05:25.910721Z"
    },
    "papermill": {
     "duration": 0.237718,
     "end_time": "2020-09-17T01:05:25.911698",
     "exception": false,
     "start_time": "2020-09-17T01:05:25.673980",
     "status": "completed"
    },
    "tags": []
   },
   "outputs": [
    {
     "name": "stdout",
     "output_type": "stream",
     "text": [
      "[  1   1   1   6   6   6   6   6   6   6   6   6   6   6   6   6   6   6\n",
      "   6   7   7   7   7  12  12  12  12  12  12  12  12  12  12  12  13  13\n",
      "  17  18  18  18  18  18  18  18  18  18  18  18  18  18  19  19  19  19\n",
      "  23  23  24  24  24  24  24  25  25  25  25  25  25  25  25  26  26  26\n",
      "  29  30  30  30  30  30  30  31  31  31  31  32  35  36  36  36  36  36\n",
      "  36  36  36  36  36  36  36  37  37  37  37  37  37  38  39  42  42  42\n",
      "  42  43  44  47  48  48  48  48  48  48  48  49  50  51  54  54  54  55\n",
      "  55  56  56  59  60  60  60  61  61  61  62  62  66  67  67  68  71  72\n",
      "  72  72  73  73  73  73  73  74  74  80  80  84  85  89  89  92  93  96\n",
      "  96  96  97  98 102 103 104 106 106 115 115 119 121 127 130 151 158 165\n",
      " 170 190 192 223 236 241 264 266 267 270 273 279 281 283 297 301 316 336\n",
      " 340 360 367 402 404 424 435 726 832]\n"
     ]
    }
   ],
   "source": [
    "### Check how many positive labels are in each class\n",
    "\n",
    "value_counts_arr = np.sort([train_targets_df[col].value_counts()[1] for col in train_targets_df.columns])\n",
    "\n",
    "print(value_counts_arr)"
   ]
  },
  {
   "cell_type": "code",
   "execution_count": 6,
   "metadata": {
    "execution": {
     "iopub.execute_input": "2020-09-17T01:05:25.976043Z",
     "iopub.status.busy": "2020-09-17T01:05:25.975280Z",
     "iopub.status.idle": "2020-09-17T01:05:26.290618Z",
     "shell.execute_reply": "2020-09-17T01:05:26.290075Z"
    },
    "papermill": {
     "duration": 0.349641,
     "end_time": "2020-09-17T01:05:26.290756",
     "exception": false,
     "start_time": "2020-09-17T01:05:25.941115",
     "status": "completed"
    },
    "tags": []
   },
   "outputs": [
    {
     "data": {
      "image/png": "[encoded data removed]",
      "text/plain": [
       "<Figure size 720x360 with 1 Axes>"
      ]
     },
     "metadata": {
      "needs_background": "light"
     },
     "output_type": "display_data"
    }
   ],
   "source": [
    "### Plot histogram of 1s counts in classes \n",
    "\n",
    "matplotlib.rcParams['figure.figsize'] = [10, 5]\n",
    "\n",
    "plt.hist(value_counts_arr, 50, facecolor='g', alpha=0.75)\n",
    "plt.xlabel('Number of 1\\'s')\n",
    "plt.ylabel('Number of classes')\n",
    "plt.title('Value Counts of 1\\'s in classes')\n",
    "plt.show()"
   ]
  },
  {
   "cell_type": "markdown",
   "metadata": {
    "papermill": {
     "duration": 0.028994,
     "end_time": "2020-09-17T01:05:26.349976",
     "exception": false,
     "start_time": "2020-09-17T01:05:26.320982",
     "status": "completed"
    },
    "tags": []
   },
   "source": [
    "As you can see, there is a significantly small amount of positive labels in many classes. Three classes only have one positive instance! We must make sure we have these instances in the training set and not the validation set, or else our model will only predict one class! This is why we have to use a stratified k-fold."
   ]
  },
  {
   "cell_type": "markdown",
   "metadata": {
    "papermill": {
     "duration": 0.027141,
     "end_time": "2020-09-17T01:05:26.404479",
     "exception": false,
     "start_time": "2020-09-17T01:05:26.377338",
     "status": "completed"
    },
    "tags": []
   },
   "source": [
    "## Preparing our data"
   ]
  },
  {
   "cell_type": "markdown",
   "metadata": {
    "papermill": {
     "duration": 0.026844,
     "end_time": "2020-09-17T01:05:26.458316",
     "exception": false,
     "start_time": "2020-09-17T01:05:26.431472",
     "status": "completed"
    },
    "tags": []
   },
   "source": [
    "I decided to use One-Hot encoding for the categorical features. There are several other encoders to try that may perform better.  "
   ]
  },
  {
   "cell_type": "code",
   "execution_count": 7,
   "metadata": {
    "execution": {
     "iopub.execute_input": "2020-09-17T01:05:26.521000Z",
     "iopub.status.busy": "2020-09-17T01:05:26.520060Z",
     "iopub.status.idle": "2020-09-17T01:05:27.595482Z",
     "shell.execute_reply": "2020-09-17T01:05:27.596189Z"
    },
    "papermill": {
     "duration": 1.109834,
     "end_time": "2020-09-17T01:05:27.596373",
     "exception": false,
     "start_time": "2020-09-17T01:05:26.486539",
     "status": "completed"
    },
    "tags": []
   },
   "outputs": [
    {
     "name": "stderr",
     "output_type": "stream",
     "text": [
      "/opt/conda/lib/python3.7/site-packages/category_encoders/utils.py:21: FutureWarning: is_categorical is deprecated and will be removed in a future version.  Use is_categorical_dtype instead\n",
      "  elif pd.api.types.is_categorical(cols):\n",
      "/opt/conda/lib/python3.7/site-packages/category_encoders/utils.py:21: FutureWarning: is_categorical is deprecated and will be removed in a future version.  Use is_categorical_dtype instead\n",
      "  elif pd.api.types.is_categorical(cols):\n"
     ]
    }
   ],
   "source": [
    "### Dealing w/ categorical features\n",
    "\n",
    "\n",
    "# Encode training categorical features\n",
    "enc1 = ce.OneHotEncoder(cols=['cp_type', 'cp_dose','cp_time']).fit(train_features_df)\n",
    "train_features_enc_df = enc1.transform(train_features_df)\n",
    "\n",
    "# Encode testing categorical features\n",
    "enc2 = ce.OneHotEncoder(cols=['cp_type', 'cp_dose','cp_time']).fit(test_features_df)\n",
    "test_features_enc_df = enc2.transform(test_features_df)"
   ]
  },
  {
   "cell_type": "code",
   "execution_count": 8,
   "metadata": {
    "execution": {
     "iopub.execute_input": "2020-09-17T01:05:27.658546Z",
     "iopub.status.busy": "2020-09-17T01:05:27.657917Z",
     "iopub.status.idle": "2020-09-17T01:05:27.662908Z",
     "shell.execute_reply": "2020-09-17T01:05:27.662309Z"
    },
    "papermill": {
     "duration": 0.037139,
     "end_time": "2020-09-17T01:05:27.663020",
     "exception": false,
     "start_time": "2020-09-17T01:05:27.625881",
     "status": "completed"
    },
    "tags": []
   },
   "outputs": [],
   "source": [
    "### Verify\n",
    "\n",
    "#print(train_features_enc_df.head())\n",
    "#print(train_features_enc_df.describe())\n",
    "\n",
    "#print(test_features_enc_df.head())\n",
    "#print(test_features_enc_df.describe())"
   ]
  },
  {
   "cell_type": "code",
   "execution_count": 9,
   "metadata": {
    "execution": {
     "iopub.execute_input": "2020-09-17T01:05:27.724039Z",
     "iopub.status.busy": "2020-09-17T01:05:27.723340Z",
     "iopub.status.idle": "2020-09-17T01:05:27.727786Z",
     "shell.execute_reply": "2020-09-17T01:05:27.727143Z"
    },
    "papermill": {
     "duration": 0.036469,
     "end_time": "2020-09-17T01:05:27.727930",
     "exception": false,
     "start_time": "2020-09-17T01:05:27.691461",
     "status": "completed"
    },
    "tags": []
   },
   "outputs": [],
   "source": [
    "### Initialize stratified k-fold object\n",
    "\n",
    "skf = MultilabelStratifiedKFold(n_splits = FOLDS,random_state=SEED,shuffle=True)"
   ]
  },
  {
   "cell_type": "code",
   "execution_count": 10,
   "metadata": {
    "execution": {
     "iopub.execute_input": "2020-09-17T01:05:27.841686Z",
     "iopub.status.busy": "2020-09-17T01:05:27.839776Z",
     "iopub.status.idle": "2020-09-17T01:05:27.864984Z",
     "shell.execute_reply": "2020-09-17T01:05:27.864374Z"
    },
    "papermill": {
     "duration": 0.109093,
     "end_time": "2020-09-17T01:05:27.865107",
     "exception": false,
     "start_time": "2020-09-17T01:05:27.756014",
     "status": "completed"
    },
    "tags": []
   },
   "outputs": [],
   "source": [
    "### Rename dataframes and drop 'id' columns\n",
    "\n",
    "X = train_features_enc_df.drop(columns=['sig_id'])\n",
    "X_test = test_features_enc_df.drop(columns=['sig_id'])\n",
    "y = train_targets_df.drop(columns=['sig_id'])"
   ]
  },
  {
   "cell_type": "markdown",
   "metadata": {
    "papermill": {
     "duration": 0.045973,
     "end_time": "2020-09-17T01:05:27.958936",
     "exception": false,
     "start_time": "2020-09-17T01:05:27.912963",
     "status": "completed"
    },
    "tags": []
   },
   "source": [
    "## Ensemble setup"
   ]
  },
  {
   "cell_type": "markdown",
   "metadata": {
    "papermill": {
     "duration": 0.046673,
     "end_time": "2020-09-17T01:05:28.050747",
     "exception": false,
     "start_time": "2020-09-17T01:05:28.004074",
     "status": "completed"
    },
    "tags": []
   },
   "source": [
    "My neural network contains 3 hidden layers, with batch normalization and dropout. This architecture is very simple (trains in only a few seconds w/ GPU) and should be experimented with to see what works best. Be sure to keep the last layer's activation as 'sigmoid' so that the outputs are all in [0,1]."
   ]
  },
  {
   "cell_type": "code",
   "execution_count": 11,
   "metadata": {
    "execution": {
     "iopub.execute_input": "2020-09-17T01:05:28.157137Z",
     "iopub.status.busy": "2020-09-17T01:05:28.156187Z",
     "iopub.status.idle": "2020-09-17T01:05:28.162055Z",
     "shell.execute_reply": "2020-09-17T01:05:28.163805Z"
    },
    "papermill": {
     "duration": 0.060964,
     "end_time": "2020-09-17T01:05:28.163993",
     "exception": false,
     "start_time": "2020-09-17T01:05:28.103029",
     "status": "completed"
    },
    "tags": []
   },
   "outputs": [],
   "source": [
    "def get_tf_model():\n",
    "    model = tf.keras.Sequential([\n",
    "        L.Flatten(input_shape=(1,879)),\n",
    "        L.Dense(2000, activation='relu'),\n",
    "        L.BatchNormalization(),\n",
    "        L.Dropout(.4),\n",
    "        L.Dense(1000, activation='relu'),\n",
    "        L.BatchNormalization(),\n",
    "        L.Dropout(.4),\n",
    "        L.Dense(1000, activation='relu'),\n",
    "        L.BatchNormalization(),\n",
    "        L.Dropout(.4),\n",
    "        L.Dense(206, activation='sigmoid')\n",
    "    ])\n",
    "\n",
    "    model.compile(\n",
    "        optimizer='adam',\n",
    "        loss = 'binary_crossentropy',\n",
    "        metrics=['accuracy']\n",
    "    )\n",
    "    \n",
    "    model.summary()\n",
    "    \n",
    "    return model"
   ]
  },
  {
   "cell_type": "markdown",
   "metadata": {
    "papermill": {
     "duration": 0.040581,
     "end_time": "2020-09-17T01:05:28.249026",
     "exception": false,
     "start_time": "2020-09-17T01:05:28.208445",
     "status": "completed"
    },
    "tags": []
   },
   "source": [
    "This type of learning rate schedule has become the go-to for Kaggle competitions. It starts out small, ramps up to a certain threshold for a couple epochs, then decays exponentially."
   ]
  },
  {
   "cell_type": "code",
   "execution_count": 12,
   "metadata": {
    "execution": {
     "iopub.execute_input": "2020-09-17T01:05:28.340677Z",
     "iopub.status.busy": "2020-09-17T01:05:28.339822Z",
     "iopub.status.idle": "2020-09-17T01:05:28.344535Z",
     "shell.execute_reply": "2020-09-17T01:05:28.345210Z"
    },
    "papermill": {
     "duration": 0.054981,
     "end_time": "2020-09-17T01:05:28.345374",
     "exception": false,
     "start_time": "2020-09-17T01:05:28.290393",
     "status": "completed"
    },
    "tags": []
   },
   "outputs": [],
   "source": [
    "### learning rate schedule\n",
    "\n",
    "def lrfn(epoch):\n",
    "    \n",
    "    if epoch < lr_rampup_epochs:\n",
    "        lr = (lr_max - lr_start) / lr_rampup_epochs * epoch + lr_start\n",
    "    elif epoch < lr_rampup_epochs + lr_sustain_epochs:\n",
    "        lr = lr_max\n",
    "    else:\n",
    "        lr = (lr_max - lr_min) * lr_exp_decay**(epoch - lr_rampup_epochs - lr_sustain_epochs) + lr_min\n",
    "    return lr"
   ]
  },
  {
   "cell_type": "code",
   "execution_count": 13,
   "metadata": {
    "execution": {
     "iopub.execute_input": "2020-09-17T01:05:28.474795Z",
     "iopub.status.busy": "2020-09-17T01:05:28.474028Z",
     "iopub.status.idle": "2020-09-17T01:05:28.477259Z",
     "shell.execute_reply": "2020-09-17T01:05:28.477919Z"
    },
    "papermill": {
     "duration": 0.074416,
     "end_time": "2020-09-17T01:05:28.478073",
     "exception": false,
     "start_time": "2020-09-17T01:05:28.403657",
     "status": "completed"
    },
    "tags": []
   },
   "outputs": [],
   "source": [
    "def plot_lr():\n",
    "    rng = [i for i in range(EPOCHS)]\n",
    "    y = [lrfn(x) for x in rng]\n",
    "    plt.plot(rng, y)\n",
    "    print(\"Learning rate schedule: {:.3g} to {:.3g} to {:.3g}\".format(y[0], max(y), y[-1]))"
   ]
  },
  {
   "cell_type": "code",
   "execution_count": 14,
   "metadata": {
    "execution": {
     "iopub.execute_input": "2020-09-17T01:05:28.603171Z",
     "iopub.status.busy": "2020-09-17T01:05:28.601260Z",
     "iopub.status.idle": "2020-09-17T01:05:28.607539Z",
     "shell.execute_reply": "2020-09-17T01:05:28.608653Z"
    },
    "papermill": {
     "duration": 0.068274,
     "end_time": "2020-09-17T01:05:28.608812",
     "exception": false,
     "start_time": "2020-09-17T01:05:28.540538",
     "status": "completed"
    },
    "tags": []
   },
   "outputs": [],
   "source": [
    "### Fit model\n",
    "\n",
    "def fit_model(model,X_train,X_valid,y_train,y_valid):\n",
    "\n",
    "    start = time.time()\n",
    "    \n",
    "    print('Beginning to fit ',type(model))\n",
    "\n",
    "    if 'tensorflow' in str(type(model)): # Fit neural net model\n",
    "    \n",
    "        model.fit(\n",
    "            X_train,\n",
    "            y_train,\n",
    "            epochs=EPOCHS,\n",
    "            verbose=1,\n",
    "            batch_size=BATCH_SIZE,\n",
    "            callbacks=[lr_schedule],\n",
    "            validation_data=(X_valid,y_valid)\n",
    "        )\n",
    "    \n",
    "    else: # Fit other type of model\n",
    "    \n",
    "        model.fit(X_train,y_train)\n",
    "\n",
    "    print('Total time taken to fit model: ', time.time() - start, ' seconds')"
   ]
  },
  {
   "cell_type": "code",
   "execution_count": 15,
   "metadata": {
    "execution": {
     "iopub.execute_input": "2020-09-17T01:05:28.703411Z",
     "iopub.status.busy": "2020-09-17T01:05:28.702662Z",
     "iopub.status.idle": "2020-09-17T01:05:28.707786Z",
     "shell.execute_reply": "2020-09-17T01:05:28.708835Z"
    },
    "papermill": {
     "duration": 0.0574,
     "end_time": "2020-09-17T01:05:28.708984",
     "exception": false,
     "start_time": "2020-09-17T01:05:28.651584",
     "status": "completed"
    },
    "tags": []
   },
   "outputs": [],
   "source": [
    "### Make Predictions\n",
    "\n",
    "def get_preds(model,X_valid,final=False):\n",
    "\n",
    "    if 'tensorflow' in str(type(model)): # Neural Network model predictions \n",
    "        \n",
    "        if final==True:\n",
    "            preds = np.array(model.predict(X_test).astype(\"float64\"))\n",
    "        else:\n",
    "            preds = np.array(model.predict(X_valid).astype(\"float64\"))\n",
    "            \n",
    "    else:    # Other model predictions          \n",
    "        \n",
    "        if final==True:\n",
    "            preds = np.array(model.predict_proba(X_test))\n",
    "        else:\n",
    "            preds = np.array(model.predict_proba(X_valid))\n",
    "        \n",
    "        preds = preds[:,:,1].T\n",
    "    \n",
    "    return preds"
   ]
  },
  {
   "cell_type": "code",
   "execution_count": 16,
   "metadata": {
    "execution": {
     "iopub.execute_input": "2020-09-17T01:05:28.799284Z",
     "iopub.status.busy": "2020-09-17T01:05:28.797890Z",
     "iopub.status.idle": "2020-09-17T01:05:28.800034Z",
     "shell.execute_reply": "2020-09-17T01:05:28.800678Z"
    },
    "papermill": {
     "duration": 0.040746,
     "end_time": "2020-09-17T01:05:28.800806",
     "exception": false,
     "start_time": "2020-09-17T01:05:28.760060",
     "status": "completed"
    },
    "tags": []
   },
   "outputs": [],
   "source": [
    "### Calculate validation score\n",
    "\n",
    "def calc_loss(vals,preds):\n",
    "\n",
    "    score = log_loss(np.ravel(vals),np.ravel(preds))\n",
    "    \n",
    "    cv_scores.append(score)\n",
    "\n",
    "    print('Validation log loss score: {}'.format(score))"
   ]
  },
  {
   "cell_type": "code",
   "execution_count": 17,
   "metadata": {
    "execution": {
     "iopub.execute_input": "2020-09-17T01:05:28.888906Z",
     "iopub.status.busy": "2020-09-17T01:05:28.887990Z",
     "iopub.status.idle": "2020-09-17T01:05:28.892147Z",
     "shell.execute_reply": "2020-09-17T01:05:28.893236Z"
    },
    "papermill": {
     "duration": 0.054346,
     "end_time": "2020-09-17T01:05:28.893422",
     "exception": false,
     "start_time": "2020-09-17T01:05:28.839076",
     "status": "completed"
    },
    "tags": []
   },
   "outputs": [],
   "source": [
    "def run_model(model,X_train,X_valid,y_train,y_valid):\n",
    "\n",
    "    ### fit the model\n",
    "    fit_model(model,X_train,X_valid,y_train,y_valid)\n",
    "\n",
    "    print('Getting validation predictions...')\n",
    "    \n",
    "    ### get the predictions\n",
    "    temp_val_preds = get_preds(model,X_valid,final=False)\n",
    "    \n",
    "    ### calculate log loss\n",
    "    calc_loss(y_valid,temp_val_preds)\n",
    "    \n",
    "    print('Calculating final predictions...')\n",
    "\n",
    "    ### final preds\n",
    "    final_preds.append(get_preds(model,X_valid,final=True))\n",
    "    \n",
    "    print('Done')"
   ]
  },
  {
   "cell_type": "code",
   "execution_count": 18,
   "metadata": {
    "execution": {
     "iopub.execute_input": "2020-09-17T01:05:28.991459Z",
     "iopub.status.busy": "2020-09-17T01:05:28.989289Z",
     "iopub.status.idle": "2020-09-17T01:05:28.995697Z",
     "shell.execute_reply": "2020-09-17T01:05:28.997241Z"
    },
    "papermill": {
     "duration": 0.058886,
     "end_time": "2020-09-17T01:05:28.997406",
     "exception": false,
     "start_time": "2020-09-17T01:05:28.938520",
     "status": "completed"
    },
    "tags": []
   },
   "outputs": [],
   "source": [
    "### XGBoost Model\n",
    "\n",
    "if include_xgboost == True:\n",
    "    \n",
    "    model_1 = MultiOutputClassifier(XGBClassifier(tree_method='gpu_hist'))\n",
    "\n",
    "    # The MultiOutputClassifier wrapper creates one model for each class (i.e. 206 different models total)\n",
    "\n",
    "    # Using parameters from https://www.kaggle.com/fchmiel/xgboost-baseline-multilabel-classification\n",
    "    params = {'estimator__colsample_bytree': 0.6522,\n",
    "          'estimator__gamma': 3.6975,\n",
    "          'estimator__learning_rate': 0.0503,\n",
    "          'estimator__max_delta_step': 2.0706,\n",
    "          'estimator__max_depth': 10,\n",
    "          'estimator__min_child_weight': 31.5800,\n",
    "          'estimator__n_estimators': 166,\n",
    "          'estimator__subsample': 0.8639\n",
    "         }\n",
    "\n",
    "    model_1.set_params(**params)"
   ]
  },
  {
   "cell_type": "code",
   "execution_count": 19,
   "metadata": {
    "execution": {
     "iopub.execute_input": "2020-09-17T01:05:29.102146Z",
     "iopub.status.busy": "2020-09-17T01:05:29.099833Z",
     "iopub.status.idle": "2020-09-17T01:05:32.515188Z",
     "shell.execute_reply": "2020-09-17T01:05:32.514158Z"
    },
    "papermill": {
     "duration": 3.475318,
     "end_time": "2020-09-17T01:05:32.515312",
     "exception": false,
     "start_time": "2020-09-17T01:05:29.039994",
     "status": "completed"
    },
    "tags": []
   },
   "outputs": [
    {
     "name": "stdout",
     "output_type": "stream",
     "text": [
      "Learning rate schedule: 0.0001 to 0.0003 to 1.07e-05\n",
      "Model: \"sequential\"\n",
      "_________________________________________________________________\n",
      "Layer (type)                 Output Shape              Param #   \n",
      "=================================================================\n",
      "flatten (Flatten)            (None, 879)               0         \n",
      "_________________________________________________________________\n",
      "dense (Dense)                (None, 2000)              1760000   \n",
      "_________________________________________________________________\n",
      "batch_normalization (BatchNo (None, 2000)              8000      \n",
      "_________________________________________________________________\n",
      "dropout (Dropout)            (None, 2000)              0         \n",
      "_________________________________________________________________\n",
      "dense_1 (Dense)              (None, 1000)              2001000   \n",
      "_________________________________________________________________\n",
      "batch_normalization_1 (Batch (None, 1000)              4000      \n",
      "_________________________________________________________________\n",
      "dropout_1 (Dropout)          (None, 1000)              0         \n",
      "_________________________________________________________________\n",
      "dense_2 (Dense)              (None, 1000)              1001000   \n",
      "_________________________________________________________________\n",
      "batch_normalization_2 (Batch (None, 1000)              4000      \n",
      "_________________________________________________________________\n",
      "dropout_2 (Dropout)          (None, 1000)              0         \n",
      "_________________________________________________________________\n",
      "dense_3 (Dense)              (None, 206)               206206    \n",
      "=================================================================\n",
      "Total params: 4,984,206\n",
      "Trainable params: 4,976,206\n",
      "Non-trainable params: 8,000\n",
      "_________________________________________________________________\n"
     ]
    },
    {
     "data": {
      "image/png": "[encoded data removed]",
      "text/plain": [
       "<Figure size 720x360 with 1 Axes>"
      ]
     },
     "metadata": {
      "needs_background": "light"
     },
     "output_type": "display_data"
    }
   ],
   "source": [
    "### Neural Network Model\n",
    "\n",
    "if include_neural_net == True:\n",
    "    \n",
    "    lr_schedule = tf.keras.callbacks.LearningRateScheduler(lrfn, verbose=1)\n",
    "    \n",
    "    plot_lr()\n",
    "    \n",
    "    model_2 = get_tf_model()"
   ]
  },
  {
   "cell_type": "code",
   "execution_count": 20,
   "metadata": {
    "execution": {
     "iopub.execute_input": "2020-09-17T01:05:32.601270Z",
     "iopub.status.busy": "2020-09-17T01:05:32.598988Z",
     "iopub.status.idle": "2020-09-17T01:05:32.602135Z",
     "shell.execute_reply": "2020-09-17T01:05:32.602940Z"
    },
    "papermill": {
     "duration": 0.052747,
     "end_time": "2020-09-17T01:05:32.603099",
     "exception": false,
     "start_time": "2020-09-17T01:05:32.550352",
     "status": "completed"
    },
    "tags": []
   },
   "outputs": [],
   "source": [
    "### Logistic Regression model\n",
    "\n",
    "if include_logreg == True:\n",
    "    \n",
    "    model_3 = MultiOutputClassifier(LogisticRegression(max_iter=10000, tol=0.1, C = 0.5,verbose=0,random_state = SEED))"
   ]
  },
  {
   "cell_type": "markdown",
   "metadata": {
    "papermill": {
     "duration": 0.043252,
     "end_time": "2020-09-17T01:05:32.686237",
     "exception": false,
     "start_time": "2020-09-17T01:05:32.642985",
     "status": "completed"
    },
    "tags": []
   },
   "source": [
    "## Train models"
   ]
  },
  {
   "cell_type": "code",
   "execution_count": 21,
   "metadata": {
    "execution": {
     "iopub.execute_input": "2020-09-17T01:05:32.761230Z",
     "iopub.status.busy": "2020-09-17T01:05:32.760344Z",
     "iopub.status.idle": "2020-09-17T01:05:32.764793Z",
     "shell.execute_reply": "2020-09-17T01:05:32.764045Z"
    },
    "papermill": {
     "duration": 0.04125,
     "end_time": "2020-09-17T01:05:32.764903",
     "exception": false,
     "start_time": "2020-09-17T01:05:32.723653",
     "status": "completed"
    },
    "tags": []
   },
   "outputs": [],
   "source": [
    "cv_scores = []\n",
    "final_preds = []"
   ]
  },
  {
   "cell_type": "code",
   "execution_count": 22,
   "metadata": {
    "execution": {
     "iopub.execute_input": "2020-09-17T01:05:32.844902Z",
     "iopub.status.busy": "2020-09-17T01:05:32.837972Z",
     "iopub.status.idle": "2020-09-17T01:26:43.442646Z",
     "shell.execute_reply": "2020-09-17T01:26:43.443424Z"
    },
    "papermill": {
     "duration": 1270.645956,
     "end_time": "2020-09-17T01:26:43.443629",
     "exception": false,
     "start_time": "2020-09-17T01:05:32.797673",
     "status": "completed"
    },
    "tags": []
   },
   "outputs": [
    {
     "name": "stdout",
     "output_type": "stream",
     "text": [
      "Beginning fold 1\n",
      "TRAIN INDEX: [    0     2     3 ... 23811 23812 23813] VALID INDEX: [    1     5     8 ... 23803 23809 23810]\n",
      "Beginning to fit  <class 'sklearn.multioutput.MultiOutputClassifier'>\n",
      "Total time taken to fit model:  205.999587059021  seconds\n",
      "Getting validation predictions...\n",
      "Validation log loss score: 0.016969861136905018\n",
      "Calculating final predictions...\n",
      "Done\n",
      "Beginning to fit  <class 'tensorflow.python.keras.engine.sequential.Sequential'>\n",
      "\n",
      "Epoch 00001: LearningRateScheduler reducing learning rate to 0.0001.\n",
      "Epoch 1/25\n",
      "140/140 [==============================] - 1s 8ms/step - loss: 0.8345 - accuracy: 0.0111 - val_loss: 0.6720 - val_accuracy: 0.0420\n",
      "\n",
      "Epoch 00002: LearningRateScheduler reducing learning rate to 0.00014.\n",
      "Epoch 2/25\n",
      "140/140 [==============================] - 1s 6ms/step - loss: 0.6899 - accuracy: 0.0167 - val_loss: 0.5520 - val_accuracy: 0.0198\n",
      "\n",
      "Epoch 00003: LearningRateScheduler reducing learning rate to 0.00017999999999999998.\n",
      "Epoch 3/25\n",
      "140/140 [==============================] - 1s 7ms/step - loss: 0.4475 - accuracy: 0.0147 - val_loss: 0.2596 - val_accuracy: 0.0146\n",
      "\n",
      "Epoch 00004: LearningRateScheduler reducing learning rate to 0.00021999999999999998.\n",
      "Epoch 4/25\n",
      "140/140 [==============================] - 1s 7ms/step - loss: 0.1674 - accuracy: 0.0171 - val_loss: 0.0834 - val_accuracy: 0.0440\n",
      "\n",
      "Epoch 00005: LearningRateScheduler reducing learning rate to 0.00026.\n",
      "Epoch 5/25\n",
      "140/140 [==============================] - 1s 6ms/step - loss: 0.0648 - accuracy: 0.0274 - val_loss: 0.0415 - val_accuracy: 0.0576\n",
      "\n",
      "Epoch 00006: LearningRateScheduler reducing learning rate to 0.0003.\n",
      "Epoch 6/25\n",
      "140/140 [==============================] - 1s 6ms/step - loss: 0.0369 - accuracy: 0.0389 - val_loss: 0.0289 - val_accuracy: 0.0593\n",
      "\n",
      "Epoch 00007: LearningRateScheduler reducing learning rate to 0.0003.\n",
      "Epoch 7/25\n",
      "140/140 [==============================] - 1s 6ms/step - loss: 0.0281 - accuracy: 0.0483 - val_loss: 0.0240 - val_accuracy: 0.0721\n",
      "\n",
      "Epoch 00008: LearningRateScheduler reducing learning rate to 0.0003.\n",
      "Epoch 8/25\n",
      "140/140 [==============================] - 1s 7ms/step - loss: 0.0243 - accuracy: 0.0550 - val_loss: 0.0222 - val_accuracy: 0.0553\n",
      "\n",
      "Epoch 00009: LearningRateScheduler reducing learning rate to 0.00021299999999999995.\n",
      "Epoch 9/25\n",
      "140/140 [==============================] - 1s 6ms/step - loss: 0.0224 - accuracy: 0.0625 - val_loss: 0.0209 - val_accuracy: 0.0821\n",
      "\n",
      "Epoch 00010: LearningRateScheduler reducing learning rate to 0.00015209999999999996.\n",
      "Epoch 10/25\n",
      "140/140 [==============================] - 1s 6ms/step - loss: 0.0217 - accuracy: 0.0697 - val_loss: 0.0205 - val_accuracy: 0.0657\n",
      "\n",
      "Epoch 00011: LearningRateScheduler reducing learning rate to 0.00010946999999999995.\n",
      "Epoch 11/25\n",
      "140/140 [==============================] - 1s 6ms/step - loss: 0.0211 - accuracy: 0.0698 - val_loss: 0.0200 - val_accuracy: 0.0895\n",
      "\n",
      "Epoch 00012: LearningRateScheduler reducing learning rate to 7.962899999999998e-05.\n",
      "Epoch 12/25\n",
      "140/140 [==============================] - 1s 6ms/step - loss: 0.0207 - accuracy: 0.0767 - val_loss: 0.0198 - val_accuracy: 0.0694\n",
      "\n",
      "Epoch 00013: LearningRateScheduler reducing learning rate to 5.874029999999997e-05.\n",
      "Epoch 13/25\n",
      "140/140 [==============================] - 1s 6ms/step - loss: 0.0206 - accuracy: 0.0753 - val_loss: 0.0197 - val_accuracy: 0.0899\n",
      "\n",
      "Epoch 00014: LearningRateScheduler reducing learning rate to 4.411820999999998e-05.\n",
      "Epoch 14/25\n",
      "140/140 [==============================] - 1s 6ms/step - loss: 0.0205 - accuracy: 0.0786 - val_loss: 0.0196 - val_accuracy: 0.0857\n",
      "\n",
      "Epoch 00015: LearningRateScheduler reducing learning rate to 3.388274699999999e-05.\n",
      "Epoch 15/25\n",
      "140/140 [==============================] - 1s 8ms/step - loss: 0.0202 - accuracy: 0.0770 - val_loss: 0.0194 - val_accuracy: 0.0892\n",
      "\n",
      "Epoch 00016: LearningRateScheduler reducing learning rate to 2.6717922899999988e-05.\n",
      "Epoch 16/25\n",
      "140/140 [==============================] - 1s 7ms/step - loss: 0.0203 - accuracy: 0.0780 - val_loss: 0.0193 - val_accuracy: 0.0904\n",
      "\n",
      "Epoch 00017: LearningRateScheduler reducing learning rate to 2.1702546029999993e-05.\n",
      "Epoch 17/25\n",
      "140/140 [==============================] - 1s 7ms/step - loss: 0.0201 - accuracy: 0.0805 - val_loss: 0.0193 - val_accuracy: 0.0870\n",
      "\n",
      "Epoch 00018: LearningRateScheduler reducing learning rate to 1.8191782220999995e-05.\n",
      "Epoch 18/25\n",
      "140/140 [==============================] - 1s 7ms/step - loss: 0.0200 - accuracy: 0.0825 - val_loss: 0.0192 - val_accuracy: 0.0768\n",
      "\n",
      "Epoch 00019: LearningRateScheduler reducing learning rate to 1.5734247554699994e-05.\n",
      "Epoch 19/25\n",
      "140/140 [==============================] - 1s 6ms/step - loss: 0.0199 - accuracy: 0.0817 - val_loss: 0.0191 - val_accuracy: 0.0808\n",
      "\n",
      "Epoch 00020: LearningRateScheduler reducing learning rate to 1.4013973288289997e-05.\n",
      "Epoch 20/25\n",
      "140/140 [==============================] - 1s 6ms/step - loss: 0.0198 - accuracy: 0.0821 - val_loss: 0.0191 - val_accuracy: 0.0793\n",
      "\n",
      "Epoch 00021: LearningRateScheduler reducing learning rate to 1.2809781301802998e-05.\n",
      "Epoch 21/25\n",
      "140/140 [==============================] - 1s 7ms/step - loss: 0.0197 - accuracy: 0.0815 - val_loss: 0.0190 - val_accuracy: 0.0830\n",
      "\n",
      "Epoch 00022: LearningRateScheduler reducing learning rate to 1.1966846911262098e-05.\n",
      "Epoch 22/25\n",
      "140/140 [==============================] - 1s 6ms/step - loss: 0.0198 - accuracy: 0.0843 - val_loss: 0.0190 - val_accuracy: 0.0810\n",
      "\n",
      "Epoch 00023: LearningRateScheduler reducing learning rate to 1.137679283788347e-05.\n",
      "Epoch 23/25\n",
      "140/140 [==============================] - 1s 6ms/step - loss: 0.0197 - accuracy: 0.0843 - val_loss: 0.0190 - val_accuracy: 0.0761\n",
      "\n",
      "Epoch 00024: LearningRateScheduler reducing learning rate to 1.0963754986518429e-05.\n",
      "Epoch 24/25\n",
      "140/140 [==============================] - 1s 6ms/step - loss: 0.0196 - accuracy: 0.0815 - val_loss: 0.0189 - val_accuracy: 0.0768\n",
      "\n",
      "Epoch 00025: LearningRateScheduler reducing learning rate to 1.06746284905629e-05.\n",
      "Epoch 25/25\n",
      "140/140 [==============================] - 1s 6ms/step - loss: 0.0196 - accuracy: 0.0816 - val_loss: 0.0189 - val_accuracy: 0.0768\n",
      "Total time taken to fit model:  25.601309776306152  seconds\n",
      "Getting validation predictions...\n",
      "Validation log loss score: 0.018892503395562574\n",
      "Calculating final predictions...\n",
      "Done\n",
      "Beginning fold 2\n",
      "TRAIN INDEX: [    0     1     3 ... 23810 23811 23812] VALID INDEX: [    2    10    11 ... 23805 23806 23813]\n",
      "Beginning to fit  <class 'sklearn.multioutput.MultiOutputClassifier'>\n",
      "Total time taken to fit model:  203.88428163528442  seconds\n",
      "Getting validation predictions...\n",
      "Validation log loss score: 0.017108951323896095\n",
      "Calculating final predictions...\n",
      "Done\n",
      "Beginning to fit  <class 'tensorflow.python.keras.engine.sequential.Sequential'>\n",
      "\n",
      "Epoch 00001: LearningRateScheduler reducing learning rate to 0.0001.\n",
      "Epoch 1/25\n",
      "140/140 [==============================] - 1s 7ms/step - loss: 0.0194 - accuracy: 0.0874 - val_loss: 0.0184 - val_accuracy: 0.0974\n",
      "\n",
      "Epoch 00002: LearningRateScheduler reducing learning rate to 0.00014.\n",
      "Epoch 2/25\n",
      "140/140 [==============================] - 1s 7ms/step - loss: 0.0190 - accuracy: 0.0891 - val_loss: 0.0182 - val_accuracy: 0.1003\n",
      "\n",
      "Epoch 00003: LearningRateScheduler reducing learning rate to 0.00017999999999999998.\n",
      "Epoch 3/25\n",
      "140/140 [==============================] - 1s 6ms/step - loss: 0.0184 - accuracy: 0.0941 - val_loss: 0.0176 - val_accuracy: 0.0878\n",
      "\n",
      "Epoch 00004: LearningRateScheduler reducing learning rate to 0.00021999999999999998.\n",
      "Epoch 4/25\n",
      "140/140 [==============================] - 1s 7ms/step - loss: 0.0179 - accuracy: 0.0964 - val_loss: 0.0172 - val_accuracy: 0.1105\n",
      "\n",
      "Epoch 00005: LearningRateScheduler reducing learning rate to 0.00026.\n",
      "Epoch 5/25\n",
      "140/140 [==============================] - 1s 8ms/step - loss: 0.0176 - accuracy: 0.1024 - val_loss: 0.0169 - val_accuracy: 0.0919\n",
      "\n",
      "Epoch 00006: LearningRateScheduler reducing learning rate to 0.0003.\n",
      "Epoch 6/25\n",
      "140/140 [==============================] - 1s 6ms/step - loss: 0.0171 - accuracy: 0.1096 - val_loss: 0.0166 - val_accuracy: 0.0999\n",
      "\n",
      "Epoch 00007: LearningRateScheduler reducing learning rate to 0.0003.\n",
      "Epoch 7/25\n",
      "140/140 [==============================] - 1s 6ms/step - loss: 0.0167 - accuracy: 0.1158 - val_loss: 0.0165 - val_accuracy: 0.1139\n",
      "\n",
      "Epoch 00008: LearningRateScheduler reducing learning rate to 0.0003.\n",
      "Epoch 8/25\n",
      "140/140 [==============================] - 1s 6ms/step - loss: 0.0166 - accuracy: 0.1207 - val_loss: 0.0169 - val_accuracy: 0.1250\n",
      "\n",
      "Epoch 00009: LearningRateScheduler reducing learning rate to 0.00021299999999999995.\n",
      "Epoch 9/25\n",
      "140/140 [==============================] - 1s 6ms/step - loss: 0.0162 - accuracy: 0.1243 - val_loss: 0.0161 - val_accuracy: 0.1105\n",
      "\n",
      "Epoch 00010: LearningRateScheduler reducing learning rate to 0.00015209999999999996.\n",
      "Epoch 10/25\n",
      "140/140 [==============================] - 1s 5ms/step - loss: 0.0158 - accuracy: 0.1361 - val_loss: 0.0162 - val_accuracy: 0.1201\n",
      "\n",
      "Epoch 00011: LearningRateScheduler reducing learning rate to 0.00010946999999999995.\n",
      "Epoch 11/25\n",
      "140/140 [==============================] - 1s 6ms/step - loss: 0.0156 - accuracy: 0.1390 - val_loss: 0.0160 - val_accuracy: 0.1332\n",
      "\n",
      "Epoch 00012: LearningRateScheduler reducing learning rate to 7.962899999999998e-05.\n",
      "Epoch 12/25\n",
      "140/140 [==============================] - 1s 7ms/step - loss: 0.0152 - accuracy: 0.1440 - val_loss: 0.0159 - val_accuracy: 0.1149\n",
      "\n",
      "Epoch 00013: LearningRateScheduler reducing learning rate to 5.874029999999997e-05.\n",
      "Epoch 13/25\n",
      "140/140 [==============================] - 1s 6ms/step - loss: 0.0151 - accuracy: 0.1448 - val_loss: 0.0159 - val_accuracy: 0.1147\n",
      "\n",
      "Epoch 00014: LearningRateScheduler reducing learning rate to 4.411820999999998e-05.\n",
      "Epoch 14/25\n",
      "140/140 [==============================] - 1s 6ms/step - loss: 0.0149 - accuracy: 0.1501 - val_loss: 0.0158 - val_accuracy: 0.1144\n",
      "\n",
      "Epoch 00015: LearningRateScheduler reducing learning rate to 3.388274699999999e-05.\n",
      "Epoch 15/25\n",
      "140/140 [==============================] - 1s 6ms/step - loss: 0.0148 - accuracy: 0.1522 - val_loss: 0.0158 - val_accuracy: 0.1154\n",
      "\n",
      "Epoch 00016: LearningRateScheduler reducing learning rate to 2.6717922899999988e-05.\n",
      "Epoch 16/25\n",
      "140/140 [==============================] - 1s 6ms/step - loss: 0.0149 - accuracy: 0.1536 - val_loss: 0.0158 - val_accuracy: 0.1164\n",
      "\n",
      "Epoch 00017: LearningRateScheduler reducing learning rate to 2.1702546029999993e-05.\n",
      "Epoch 17/25\n",
      "140/140 [==============================] - 1s 7ms/step - loss: 0.0147 - accuracy: 0.1540 - val_loss: 0.0158 - val_accuracy: 0.1172\n",
      "\n",
      "Epoch 00018: LearningRateScheduler reducing learning rate to 1.8191782220999995e-05.\n",
      "Epoch 18/25\n",
      "140/140 [==============================] - 1s 6ms/step - loss: 0.0146 - accuracy: 0.1569 - val_loss: 0.0158 - val_accuracy: 0.1181\n",
      "\n",
      "Epoch 00019: LearningRateScheduler reducing learning rate to 1.5734247554699994e-05.\n",
      "Epoch 19/25\n",
      "140/140 [==============================] - 1s 6ms/step - loss: 0.0145 - accuracy: 0.1570 - val_loss: 0.0158 - val_accuracy: 0.1186\n",
      "\n",
      "Epoch 00020: LearningRateScheduler reducing learning rate to 1.4013973288289997e-05.\n",
      "Epoch 20/25\n",
      "140/140 [==============================] - 1s 6ms/step - loss: 0.0145 - accuracy: 0.1595 - val_loss: 0.0158 - val_accuracy: 0.1174\n",
      "\n",
      "Epoch 00021: LearningRateScheduler reducing learning rate to 1.2809781301802998e-05.\n",
      "Epoch 21/25\n",
      "140/140 [==============================] - 1s 5ms/step - loss: 0.0145 - accuracy: 0.1600 - val_loss: 0.0158 - val_accuracy: 0.1172\n",
      "\n",
      "Epoch 00022: LearningRateScheduler reducing learning rate to 1.1966846911262098e-05.\n",
      "Epoch 22/25\n",
      "140/140 [==============================] - 1s 6ms/step - loss: 0.0144 - accuracy: 0.1600 - val_loss: 0.0157 - val_accuracy: 0.1171\n",
      "\n",
      "Epoch 00023: LearningRateScheduler reducing learning rate to 1.137679283788347e-05.\n",
      "Epoch 23/25\n",
      "140/140 [==============================] - 1s 6ms/step - loss: 0.0144 - accuracy: 0.1628 - val_loss: 0.0157 - val_accuracy: 0.1182\n",
      "\n",
      "Epoch 00024: LearningRateScheduler reducing learning rate to 1.0963754986518429e-05.\n",
      "Epoch 24/25\n",
      "140/140 [==============================] - 1s 6ms/step - loss: 0.0143 - accuracy: 0.1646 - val_loss: 0.0157 - val_accuracy: 0.1179\n",
      "\n",
      "Epoch 00025: LearningRateScheduler reducing learning rate to 1.06746284905629e-05.\n",
      "Epoch 25/25\n",
      "140/140 [==============================] - 1s 6ms/step - loss: 0.0143 - accuracy: 0.1647 - val_loss: 0.0157 - val_accuracy: 0.1174\n",
      "Total time taken to fit model:  22.561139583587646  seconds\n",
      "Getting validation predictions...\n",
      "Validation log loss score: 0.015725811187295134\n",
      "Calculating final predictions...\n",
      "Done\n",
      "Beginning fold 3\n",
      "TRAIN INDEX: [    0     1     2 ... 23811 23812 23813] VALID INDEX: [    6     7    19 ... 23804 23807 23808]\n",
      "Beginning to fit  <class 'sklearn.multioutput.MultiOutputClassifier'>\n",
      "Total time taken to fit model:  203.57993364334106  seconds\n",
      "Getting validation predictions...\n",
      "Validation log loss score: 0.01699485220186941\n",
      "Calculating final predictions...\n",
      "Done\n",
      "Beginning to fit  <class 'tensorflow.python.keras.engine.sequential.Sequential'>\n",
      "\n",
      "Epoch 00001: LearningRateScheduler reducing learning rate to 0.0001.\n",
      "Epoch 1/25\n",
      "140/140 [==============================] - 1s 7ms/step - loss: 0.0152 - accuracy: 0.1458 - val_loss: 0.0134 - val_accuracy: 0.1779\n",
      "\n",
      "Epoch 00002: LearningRateScheduler reducing learning rate to 0.00014.\n",
      "Epoch 2/25\n",
      "140/140 [==============================] - 1s 5ms/step - loss: 0.0150 - accuracy: 0.1490 - val_loss: 0.0135 - val_accuracy: 0.1787\n",
      "\n",
      "Epoch 00003: LearningRateScheduler reducing learning rate to 0.00017999999999999998.\n",
      "Epoch 3/25\n",
      "140/140 [==============================] - 1s 7ms/step - loss: 0.0147 - accuracy: 0.1549 - val_loss: 0.0135 - val_accuracy: 0.1685\n",
      "\n",
      "Epoch 00004: LearningRateScheduler reducing learning rate to 0.00021999999999999998.\n",
      "Epoch 4/25\n",
      "140/140 [==============================] - 1s 6ms/step - loss: 0.0145 - accuracy: 0.1612 - val_loss: 0.0135 - val_accuracy: 0.1772\n",
      "\n",
      "Epoch 00005: LearningRateScheduler reducing learning rate to 0.00026.\n",
      "Epoch 5/25\n",
      "140/140 [==============================] - 1s 6ms/step - loss: 0.0140 - accuracy: 0.1722 - val_loss: 0.0136 - val_accuracy: 0.1755\n",
      "\n",
      "Epoch 00006: LearningRateScheduler reducing learning rate to 0.0003.\n",
      "Epoch 6/25\n",
      "140/140 [==============================] - 1s 6ms/step - loss: 0.0137 - accuracy: 0.1896 - val_loss: 0.0136 - val_accuracy: 0.1690\n",
      "\n",
      "Epoch 00007: LearningRateScheduler reducing learning rate to 0.0003.\n",
      "Epoch 7/25\n",
      "140/140 [==============================] - 1s 6ms/step - loss: 0.0132 - accuracy: 0.1999 - val_loss: 0.0137 - val_accuracy: 0.1594\n",
      "\n",
      "Epoch 00008: LearningRateScheduler reducing learning rate to 0.0003.\n",
      "Epoch 8/25\n",
      "140/140 [==============================] - 1s 6ms/step - loss: 0.0125 - accuracy: 0.2111 - val_loss: 0.0137 - val_accuracy: 0.1616\n",
      "\n",
      "Epoch 00009: LearningRateScheduler reducing learning rate to 0.00021299999999999995.\n",
      "Epoch 9/25\n",
      "140/140 [==============================] - 1s 7ms/step - loss: 0.0116 - accuracy: 0.2459 - val_loss: 0.0137 - val_accuracy: 0.1665\n",
      "\n",
      "Epoch 00010: LearningRateScheduler reducing learning rate to 0.00015209999999999996.\n",
      "Epoch 10/25\n",
      "140/140 [==============================] - 1s 6ms/step - loss: 0.0106 - accuracy: 0.2738 - val_loss: 0.0136 - val_accuracy: 0.1643\n",
      "\n",
      "Epoch 00011: LearningRateScheduler reducing learning rate to 0.00010946999999999995.\n",
      "Epoch 11/25\n",
      "140/140 [==============================] - 1s 6ms/step - loss: 0.0098 - accuracy: 0.2994 - val_loss: 0.0136 - val_accuracy: 0.1624\n",
      "\n",
      "Epoch 00012: LearningRateScheduler reducing learning rate to 7.962899999999998e-05.\n",
      "Epoch 12/25\n",
      "140/140 [==============================] - 1s 7ms/step - loss: 0.0093 - accuracy: 0.3170 - val_loss: 0.0136 - val_accuracy: 0.1626\n",
      "\n",
      "Epoch 00013: LearningRateScheduler reducing learning rate to 5.874029999999997e-05.\n",
      "Epoch 13/25\n",
      "140/140 [==============================] - 1s 6ms/step - loss: 0.0089 - accuracy: 0.3339 - val_loss: 0.0136 - val_accuracy: 0.1670\n",
      "\n",
      "Epoch 00014: LearningRateScheduler reducing learning rate to 4.411820999999998e-05.\n",
      "Epoch 14/25\n",
      "140/140 [==============================] - 1s 6ms/step - loss: 0.0085 - accuracy: 0.3427 - val_loss: 0.0136 - val_accuracy: 0.1656\n",
      "\n",
      "Epoch 00015: LearningRateScheduler reducing learning rate to 3.388274699999999e-05.\n",
      "Epoch 15/25\n",
      "140/140 [==============================] - 1s 6ms/step - loss: 0.0083 - accuracy: 0.3500 - val_loss: 0.0136 - val_accuracy: 0.1653\n",
      "\n",
      "Epoch 00016: LearningRateScheduler reducing learning rate to 2.6717922899999988e-05.\n",
      "Epoch 16/25\n",
      "140/140 [==============================] - 1s 6ms/step - loss: 0.0082 - accuracy: 0.3527 - val_loss: 0.0137 - val_accuracy: 0.1655\n",
      "\n",
      "Epoch 00017: LearningRateScheduler reducing learning rate to 2.1702546029999993e-05.\n",
      "Epoch 17/25\n",
      "140/140 [==============================] - 1s 6ms/step - loss: 0.0080 - accuracy: 0.3584 - val_loss: 0.0137 - val_accuracy: 0.1671\n",
      "\n",
      "Epoch 00018: LearningRateScheduler reducing learning rate to 1.8191782220999995e-05.\n",
      "Epoch 18/25\n",
      "140/140 [==============================] - 1s 6ms/step - loss: 0.0079 - accuracy: 0.3622 - val_loss: 0.0137 - val_accuracy: 0.1668\n",
      "\n",
      "Epoch 00019: LearningRateScheduler reducing learning rate to 1.5734247554699994e-05.\n",
      "Epoch 19/25\n",
      "140/140 [==============================] - 1s 5ms/step - loss: 0.0078 - accuracy: 0.3658 - val_loss: 0.0137 - val_accuracy: 0.1665\n",
      "\n",
      "Epoch 00020: LearningRateScheduler reducing learning rate to 1.4013973288289997e-05.\n",
      "Epoch 20/25\n",
      "140/140 [==============================] - 1s 6ms/step - loss: 0.0077 - accuracy: 0.3681 - val_loss: 0.0137 - val_accuracy: 0.1675\n",
      "\n",
      "Epoch 00021: LearningRateScheduler reducing learning rate to 1.2809781301802998e-05.\n",
      "Epoch 21/25\n",
      "140/140 [==============================] - 1s 6ms/step - loss: 0.0076 - accuracy: 0.3711 - val_loss: 0.0137 - val_accuracy: 0.1676\n",
      "\n",
      "Epoch 00022: LearningRateScheduler reducing learning rate to 1.1966846911262098e-05.\n",
      "Epoch 22/25\n",
      "140/140 [==============================] - 1s 7ms/step - loss: 0.0076 - accuracy: 0.3762 - val_loss: 0.0137 - val_accuracy: 0.1671\n",
      "\n",
      "Epoch 00023: LearningRateScheduler reducing learning rate to 1.137679283788347e-05.\n",
      "Epoch 23/25\n",
      "140/140 [==============================] - 1s 6ms/step - loss: 0.0076 - accuracy: 0.3751 - val_loss: 0.0137 - val_accuracy: 0.1668\n",
      "\n",
      "Epoch 00024: LearningRateScheduler reducing learning rate to 1.0963754986518429e-05.\n",
      "Epoch 24/25\n",
      "140/140 [==============================] - 1s 6ms/step - loss: 0.0075 - accuracy: 0.3774 - val_loss: 0.0137 - val_accuracy: 0.1673\n",
      "\n",
      "Epoch 00025: LearningRateScheduler reducing learning rate to 1.06746284905629e-05.\n",
      "Epoch 25/25\n",
      "140/140 [==============================] - 1s 6ms/step - loss: 0.0074 - accuracy: 0.3799 - val_loss: 0.0137 - val_accuracy: 0.1675\n",
      "Total time taken to fit model:  21.7942214012146  seconds\n",
      "Getting validation predictions...\n",
      "Validation log loss score: 0.013738553290465035\n",
      "Calculating final predictions...\n",
      "Done\n",
      "Beginning fold 4\n",
      "TRAIN INDEX: [    1     2     5 ... 23809 23810 23813] VALID INDEX: [    0     3     4 ... 23802 23811 23812]\n",
      "Beginning to fit  <class 'sklearn.multioutput.MultiOutputClassifier'>\n",
      "Total time taken to fit model:  203.6506679058075  seconds\n",
      "Getting validation predictions...\n",
      "Validation log loss score: 0.016923604243595652\n",
      "Calculating final predictions...\n",
      "Done\n",
      "Beginning to fit  <class 'tensorflow.python.keras.engine.sequential.Sequential'>\n",
      "\n",
      "Epoch 00001: LearningRateScheduler reducing learning rate to 0.0001.\n",
      "Epoch 1/25\n",
      "140/140 [==============================] - 1s 9ms/step - loss: 0.0106 - accuracy: 0.2979 - val_loss: 0.0052 - val_accuracy: 0.4697\n",
      "\n",
      "Epoch 00002: LearningRateScheduler reducing learning rate to 0.00014.\n",
      "Epoch 2/25\n",
      "140/140 [==============================] - 1s 7ms/step - loss: 0.0102 - accuracy: 0.3036 - val_loss: 0.0055 - val_accuracy: 0.4572\n",
      "\n",
      "Epoch 00003: LearningRateScheduler reducing learning rate to 0.00017999999999999998.\n",
      "Epoch 3/25\n",
      "140/140 [==============================] - 1s 7ms/step - loss: 0.0097 - accuracy: 0.3187 - val_loss: 0.0058 - val_accuracy: 0.4431\n",
      "\n",
      "Epoch 00004: LearningRateScheduler reducing learning rate to 0.00021999999999999998.\n",
      "Epoch 4/25\n",
      "140/140 [==============================] - 1s 7ms/step - loss: 0.0092 - accuracy: 0.3300 - val_loss: 0.0061 - val_accuracy: 0.4267\n",
      "\n",
      "Epoch 00005: LearningRateScheduler reducing learning rate to 0.00026.\n",
      "Epoch 5/25\n",
      "140/140 [==============================] - 1s 6ms/step - loss: 0.0088 - accuracy: 0.3432 - val_loss: 0.0064 - val_accuracy: 0.4063\n",
      "\n",
      "Epoch 00006: LearningRateScheduler reducing learning rate to 0.0003.\n",
      "Epoch 6/25\n",
      "140/140 [==============================] - 1s 5ms/step - loss: 0.0083 - accuracy: 0.3577 - val_loss: 0.0070 - val_accuracy: 0.3859\n",
      "\n",
      "Epoch 00007: LearningRateScheduler reducing learning rate to 0.0003.\n",
      "Epoch 7/25\n",
      "140/140 [==============================] - 1s 6ms/step - loss: 0.0077 - accuracy: 0.3725 - val_loss: 0.0072 - val_accuracy: 0.3931\n",
      "\n",
      "Epoch 00008: LearningRateScheduler reducing learning rate to 0.0003.\n",
      "Epoch 8/25\n",
      "140/140 [==============================] - 1s 6ms/step - loss: 0.0069 - accuracy: 0.3988 - val_loss: 0.0074 - val_accuracy: 0.3571\n",
      "\n",
      "Epoch 00009: LearningRateScheduler reducing learning rate to 0.00021299999999999995.\n",
      "Epoch 9/25\n",
      "140/140 [==============================] - 1s 6ms/step - loss: 0.0060 - accuracy: 0.4299 - val_loss: 0.0074 - val_accuracy: 0.3607\n",
      "\n",
      "Epoch 00010: LearningRateScheduler reducing learning rate to 0.00015209999999999996.\n",
      "Epoch 10/25\n",
      "140/140 [==============================] - 1s 6ms/step - loss: 0.0051 - accuracy: 0.4535 - val_loss: 0.0074 - val_accuracy: 0.3607\n",
      "\n",
      "Epoch 00011: LearningRateScheduler reducing learning rate to 0.00010946999999999995.\n",
      "Epoch 11/25\n",
      "140/140 [==============================] - 1s 6ms/step - loss: 0.0045 - accuracy: 0.4745 - val_loss: 0.0073 - val_accuracy: 0.3570\n",
      "\n",
      "Epoch 00012: LearningRateScheduler reducing learning rate to 7.962899999999998e-05.\n",
      "Epoch 12/25\n",
      "140/140 [==============================] - 1s 7ms/step - loss: 0.0041 - accuracy: 0.4840 - val_loss: 0.0072 - val_accuracy: 0.3586\n",
      "\n",
      "Epoch 00013: LearningRateScheduler reducing learning rate to 5.874029999999997e-05.\n",
      "Epoch 13/25\n",
      "140/140 [==============================] - 1s 6ms/step - loss: 0.0038 - accuracy: 0.4971 - val_loss: 0.0072 - val_accuracy: 0.3623\n",
      "\n",
      "Epoch 00014: LearningRateScheduler reducing learning rate to 4.411820999999998e-05.\n",
      "Epoch 14/25\n",
      "140/140 [==============================] - 1s 8ms/step - loss: 0.0036 - accuracy: 0.5042 - val_loss: 0.0072 - val_accuracy: 0.3598\n",
      "\n",
      "Epoch 00015: LearningRateScheduler reducing learning rate to 3.388274699999999e-05.\n",
      "Epoch 15/25\n",
      "140/140 [==============================] - 1s 6ms/step - loss: 0.0035 - accuracy: 0.5074 - val_loss: 0.0072 - val_accuracy: 0.3613\n",
      "\n",
      "Epoch 00016: LearningRateScheduler reducing learning rate to 2.6717922899999988e-05.\n",
      "Epoch 16/25\n",
      "140/140 [==============================] - 1s 5ms/step - loss: 0.0034 - accuracy: 0.5097 - val_loss: 0.0072 - val_accuracy: 0.3608\n",
      "\n",
      "Epoch 00017: LearningRateScheduler reducing learning rate to 2.1702546029999993e-05.\n",
      "Epoch 17/25\n",
      "140/140 [==============================] - 1s 5ms/step - loss: 0.0032 - accuracy: 0.5141 - val_loss: 0.0072 - val_accuracy: 0.3627\n",
      "\n",
      "Epoch 00018: LearningRateScheduler reducing learning rate to 1.8191782220999995e-05.\n",
      "Epoch 18/25\n",
      "140/140 [==============================] - 1s 6ms/step - loss: 0.0032 - accuracy: 0.5169 - val_loss: 0.0072 - val_accuracy: 0.3628\n",
      "\n",
      "Epoch 00019: LearningRateScheduler reducing learning rate to 1.5734247554699994e-05.\n",
      "Epoch 19/25\n",
      "140/140 [==============================] - 1s 6ms/step - loss: 0.0032 - accuracy: 0.5142 - val_loss: 0.0072 - val_accuracy: 0.3654\n",
      "\n",
      "Epoch 00020: LearningRateScheduler reducing learning rate to 1.4013973288289997e-05.\n",
      "Epoch 20/25\n",
      "140/140 [==============================] - 1s 6ms/step - loss: 0.0031 - accuracy: 0.5199 - val_loss: 0.0072 - val_accuracy: 0.3645\n",
      "\n",
      "Epoch 00021: LearningRateScheduler reducing learning rate to 1.2809781301802998e-05.\n",
      "Epoch 21/25\n",
      "140/140 [==============================] - 1s 6ms/step - loss: 0.0030 - accuracy: 0.5173 - val_loss: 0.0072 - val_accuracy: 0.3639\n",
      "\n",
      "Epoch 00022: LearningRateScheduler reducing learning rate to 1.1966846911262098e-05.\n",
      "Epoch 22/25\n",
      "140/140 [==============================] - 1s 6ms/step - loss: 0.0030 - accuracy: 0.5193 - val_loss: 0.0072 - val_accuracy: 0.3632\n",
      "\n",
      "Epoch 00023: LearningRateScheduler reducing learning rate to 1.137679283788347e-05.\n",
      "Epoch 23/25\n",
      "140/140 [==============================] - 1s 7ms/step - loss: 0.0030 - accuracy: 0.5182 - val_loss: 0.0072 - val_accuracy: 0.3625\n",
      "\n",
      "Epoch 00024: LearningRateScheduler reducing learning rate to 1.0963754986518429e-05.\n",
      "Epoch 24/25\n",
      "140/140 [==============================] - 1s 6ms/step - loss: 0.0030 - accuracy: 0.5197 - val_loss: 0.0072 - val_accuracy: 0.3613\n",
      "\n",
      "Epoch 00025: LearningRateScheduler reducing learning rate to 1.06746284905629e-05.\n",
      "Epoch 25/25\n",
      "140/140 [==============================] - 1s 5ms/step - loss: 0.0029 - accuracy: 0.5193 - val_loss: 0.0072 - val_accuracy: 0.3633\n",
      "Total time taken to fit model:  22.154569387435913  seconds\n",
      "Getting validation predictions...\n",
      "Validation log loss score: 0.007205899472301264\n",
      "Calculating final predictions...\n",
      "Done\n"
     ]
    }
   ],
   "source": [
    "### Stratified K-Fold loop \n",
    "\n",
    "for fold, (train_index, valid_index) in enumerate(skf.split(X, y)):\n",
    "    \n",
    "    print('Beginning fold',fold+1)\n",
    "    print(\"TRAIN INDEX:\", train_index, \"VALID INDEX:\", valid_index)\n",
    "    \n",
    "    X_train, X_valid = X.iloc[train_index], X.iloc[valid_index]\n",
    "    y_train, y_valid = y.iloc[train_index], y.iloc[valid_index]\n",
    "    \n",
    "    if include_xgboost == True:\n",
    "        \n",
    "        run_model(model_1,X_train,X_valid,y_train,y_valid) # takes ~4 minutes\n",
    "        \n",
    "    if include_neural_net == True:\n",
    "        \n",
    "        run_model(model_2,X_train,X_valid,y_train,y_valid) # takes ~10 seconds with GPU\n",
    "        \n",
    "    if include_logreg == True:\n",
    "        \n",
    "        run_model(model_3,X_train,X_valid,y_train,y_valid) # takes ~8 min\n",
    "        \n"
   ]
  },
  {
   "cell_type": "code",
   "execution_count": 23,
   "metadata": {
    "execution": {
     "iopub.execute_input": "2020-09-17T01:26:44.832459Z",
     "iopub.status.busy": "2020-09-17T01:26:44.829917Z",
     "iopub.status.idle": "2020-09-17T01:26:44.835544Z",
     "shell.execute_reply": "2020-09-17T01:26:44.835032Z"
    },
    "papermill": {
     "duration": 0.632818,
     "end_time": "2020-09-17T01:26:44.835693",
     "exception": false,
     "start_time": "2020-09-17T01:26:44.202875",
     "status": "completed"
    },
    "tags": []
   },
   "outputs": [
    {
     "name": "stdout",
     "output_type": "stream",
     "text": [
      "Cross Validation scores:  [0.016969861136905018, 0.018892503395562574, 0.017108951323896095, 0.015725811187295134, 0.01699485220186941, 0.013738553290465035, 0.016923604243595652, 0.007205899472301264]\n"
     ]
    }
   ],
   "source": [
    "### Show all CV scores\n",
    "\n",
    "print('Cross Validation scores: ',cv_scores)"
   ]
  },
  {
   "cell_type": "code",
   "execution_count": 24,
   "metadata": {
    "execution": {
     "iopub.execute_input": "2020-09-17T01:26:45.979063Z",
     "iopub.status.busy": "2020-09-17T01:26:45.978160Z",
     "iopub.status.idle": "2020-09-17T01:26:46.015026Z",
     "shell.execute_reply": "2020-09-17T01:26:46.014447Z"
    },
    "papermill": {
     "duration": 0.604687,
     "end_time": "2020-09-17T01:26:46.015146",
     "exception": false,
     "start_time": "2020-09-17T01:26:45.410459",
     "status": "completed"
    },
    "tags": []
   },
   "outputs": [
    {
     "name": "stdout",
     "output_type": "stream",
     "text": [
      "Ensembling final predictions\n",
      "Done\n"
     ]
    }
   ],
   "source": [
    "### Ensemble final predictions\n",
    "\n",
    "print('Ensembling final predictions')\n",
    "final_predictions = np.mean(np.array(final_preds),axis=0)\n",
    "\n",
    "print('Done')"
   ]
  },
  {
   "cell_type": "markdown",
   "metadata": {
    "papermill": {
     "duration": 0.576105,
     "end_time": "2020-09-17T01:26:47.159359",
     "exception": false,
     "start_time": "2020-09-17T01:26:46.583254",
     "status": "completed"
    },
    "tags": []
   },
   "source": [
    "## Output results"
   ]
  },
  {
   "cell_type": "code",
   "execution_count": 25,
   "metadata": {
    "execution": {
     "iopub.execute_input": "2020-09-17T01:26:48.293073Z",
     "iopub.status.busy": "2020-09-17T01:26:48.292203Z",
     "iopub.status.idle": "2020-09-17T01:26:50.848148Z",
     "shell.execute_reply": "2020-09-17T01:26:50.848691Z"
    },
    "papermill": {
     "duration": 3.125343,
     "end_time": "2020-09-17T01:26:50.848855",
     "exception": false,
     "start_time": "2020-09-17T01:26:47.723512",
     "status": "completed"
    },
    "tags": []
   },
   "outputs": [],
   "source": [
    "### Output final predictions\n",
    "\n",
    "sample_sub_df.iloc[:,1:] = final_predictions\n",
    "sample_sub_df.to_csv('submission.csv',index=False)"
   ]
  },
  {
   "cell_type": "code",
   "execution_count": 26,
   "metadata": {
    "execution": {
     "iopub.execute_input": "2020-09-17T01:26:52.003531Z",
     "iopub.status.busy": "2020-09-17T01:26:52.002863Z",
     "iopub.status.idle": "2020-09-17T01:26:52.454790Z",
     "shell.execute_reply": "2020-09-17T01:26:52.455311Z"
    },
    "papermill": {
     "duration": 1.042226,
     "end_time": "2020-09-17T01:26:52.455451",
     "exception": false,
     "start_time": "2020-09-17T01:26:51.413225",
     "status": "completed"
    },
    "tags": []
   },
   "outputs": [
    {
     "data": {
      "text/html": [
       "<div>\n",
       "<style scoped>\n",
       "    .dataframe tbody tr th:only-of-type {\n",
       "        vertical-align: middle;\n",
       "    }\n",
       "\n",
       "    .dataframe tbody tr th {\n",
       "        vertical-align: top;\n",
       "    }\n",
       "\n",
       "    .dataframe thead th {\n",
       "        text-align: right;\n",
       "    }\n",
       "</style>\n",
       "<table border=\"1\" class=\"dataframe\">\n",
       "  <thead>\n",
       "    <tr style=\"text-align: right;\">\n",
       "      <th></th>\n",
       "      <th>5-alpha_reductase_inhibitor</th>\n",
       "      <th>11-beta-hsd1_inhibitor</th>\n",
       "      <th>acat_inhibitor</th>\n",
       "      <th>acetylcholine_receptor_agonist</th>\n",
       "      <th>acetylcholine_receptor_antagonist</th>\n",
       "      <th>acetylcholinesterase_inhibitor</th>\n",
       "      <th>adenosine_receptor_agonist</th>\n",
       "      <th>adenosine_receptor_antagonist</th>\n",
       "      <th>adenylyl_cyclase_activator</th>\n",
       "      <th>adrenergic_receptor_agonist</th>\n",
       "      <th>...</th>\n",
       "      <th>tropomyosin_receptor_kinase_inhibitor</th>\n",
       "      <th>trpv_agonist</th>\n",
       "      <th>trpv_antagonist</th>\n",
       "      <th>tubulin_inhibitor</th>\n",
       "      <th>tyrosine_kinase_inhibitor</th>\n",
       "      <th>ubiquitin_specific_protease_inhibitor</th>\n",
       "      <th>vegfr_inhibitor</th>\n",
       "      <th>vitamin_b</th>\n",
       "      <th>vitamin_d_receptor_agonist</th>\n",
       "      <th>wnt_inhibitor</th>\n",
       "    </tr>\n",
       "  </thead>\n",
       "  <tbody>\n",
       "    <tr>\n",
       "      <th>count</th>\n",
       "      <td>3982.000000</td>\n",
       "      <td>3982.000000</td>\n",
       "      <td>3982.000000</td>\n",
       "      <td>3982.000000</td>\n",
       "      <td>3982.000000</td>\n",
       "      <td>3982.000000</td>\n",
       "      <td>3982.000000</td>\n",
       "      <td>3982.000000</td>\n",
       "      <td>3982.000000</td>\n",
       "      <td>3982.000000</td>\n",
       "      <td>...</td>\n",
       "      <td>3982.000000</td>\n",
       "      <td>3982.000000</td>\n",
       "      <td>3982.000000</td>\n",
       "      <td>3982.000000</td>\n",
       "      <td>3982.000000</td>\n",
       "      <td>3982.000000</td>\n",
       "      <td>3982.000000</td>\n",
       "      <td>3982.000000</td>\n",
       "      <td>3982.000000</td>\n",
       "      <td>3982.000000</td>\n",
       "    </tr>\n",
       "    <tr>\n",
       "      <th>mean</th>\n",
       "      <td>0.001545</td>\n",
       "      <td>0.001587</td>\n",
       "      <td>0.001712</td>\n",
       "      <td>0.006909</td>\n",
       "      <td>0.011052</td>\n",
       "      <td>0.003181</td>\n",
       "      <td>0.002461</td>\n",
       "      <td>0.004512</td>\n",
       "      <td>0.001459</td>\n",
       "      <td>0.009987</td>\n",
       "      <td>...</td>\n",
       "      <td>0.001408</td>\n",
       "      <td>0.001814</td>\n",
       "      <td>0.001918</td>\n",
       "      <td>0.012505</td>\n",
       "      <td>0.002727</td>\n",
       "      <td>0.001430</td>\n",
       "      <td>0.005926</td>\n",
       "      <td>0.001640</td>\n",
       "      <td>0.002198</td>\n",
       "      <td>0.001781</td>\n",
       "    </tr>\n",
       "    <tr>\n",
       "      <th>std</th>\n",
       "      <td>0.000517</td>\n",
       "      <td>0.000323</td>\n",
       "      <td>0.000602</td>\n",
       "      <td>0.004228</td>\n",
       "      <td>0.007025</td>\n",
       "      <td>0.001408</td>\n",
       "      <td>0.001876</td>\n",
       "      <td>0.003599</td>\n",
       "      <td>0.001232</td>\n",
       "      <td>0.010263</td>\n",
       "      <td>...</td>\n",
       "      <td>0.000155</td>\n",
       "      <td>0.002773</td>\n",
       "      <td>0.001053</td>\n",
       "      <td>0.079510</td>\n",
       "      <td>0.001558</td>\n",
       "      <td>0.000157</td>\n",
       "      <td>0.026243</td>\n",
       "      <td>0.000467</td>\n",
       "      <td>0.008607</td>\n",
       "      <td>0.000660</td>\n",
       "    </tr>\n",
       "    <tr>\n",
       "      <th>min</th>\n",
       "      <td>0.001003</td>\n",
       "      <td>0.000996</td>\n",
       "      <td>0.001004</td>\n",
       "      <td>0.000828</td>\n",
       "      <td>0.000598</td>\n",
       "      <td>0.001001</td>\n",
       "      <td>0.000846</td>\n",
       "      <td>0.000719</td>\n",
       "      <td>0.000990</td>\n",
       "      <td>0.000690</td>\n",
       "      <td>...</td>\n",
       "      <td>0.001001</td>\n",
       "      <td>0.001000</td>\n",
       "      <td>0.000937</td>\n",
       "      <td>0.000861</td>\n",
       "      <td>0.001184</td>\n",
       "      <td>0.001007</td>\n",
       "      <td>0.000829</td>\n",
       "      <td>0.001001</td>\n",
       "      <td>0.000851</td>\n",
       "      <td>0.001006</td>\n",
       "    </tr>\n",
       "    <tr>\n",
       "      <th>25%</th>\n",
       "      <td>0.001442</td>\n",
       "      <td>0.001452</td>\n",
       "      <td>0.001511</td>\n",
       "      <td>0.005045</td>\n",
       "      <td>0.006613</td>\n",
       "      <td>0.002457</td>\n",
       "      <td>0.001904</td>\n",
       "      <td>0.003053</td>\n",
       "      <td>0.001383</td>\n",
       "      <td>0.006088</td>\n",
       "      <td>...</td>\n",
       "      <td>0.001364</td>\n",
       "      <td>0.001488</td>\n",
       "      <td>0.001647</td>\n",
       "      <td>0.002085</td>\n",
       "      <td>0.002039</td>\n",
       "      <td>0.001376</td>\n",
       "      <td>0.002027</td>\n",
       "      <td>0.001508</td>\n",
       "      <td>0.001558</td>\n",
       "      <td>0.001563</td>\n",
       "    </tr>\n",
       "    <tr>\n",
       "      <th>50%</th>\n",
       "      <td>0.001508</td>\n",
       "      <td>0.001539</td>\n",
       "      <td>0.001613</td>\n",
       "      <td>0.006518</td>\n",
       "      <td>0.010261</td>\n",
       "      <td>0.003052</td>\n",
       "      <td>0.002212</td>\n",
       "      <td>0.003930</td>\n",
       "      <td>0.001428</td>\n",
       "      <td>0.008694</td>\n",
       "      <td>...</td>\n",
       "      <td>0.001403</td>\n",
       "      <td>0.001590</td>\n",
       "      <td>0.001802</td>\n",
       "      <td>0.002689</td>\n",
       "      <td>0.002366</td>\n",
       "      <td>0.001427</td>\n",
       "      <td>0.002420</td>\n",
       "      <td>0.001598</td>\n",
       "      <td>0.001734</td>\n",
       "      <td>0.001687</td>\n",
       "    </tr>\n",
       "    <tr>\n",
       "      <th>75%</th>\n",
       "      <td>0.001582</td>\n",
       "      <td>0.001662</td>\n",
       "      <td>0.001770</td>\n",
       "      <td>0.008242</td>\n",
       "      <td>0.014248</td>\n",
       "      <td>0.003648</td>\n",
       "      <td>0.002597</td>\n",
       "      <td>0.004998</td>\n",
       "      <td>0.001480</td>\n",
       "      <td>0.011701</td>\n",
       "      <td>...</td>\n",
       "      <td>0.001453</td>\n",
       "      <td>0.001763</td>\n",
       "      <td>0.002004</td>\n",
       "      <td>0.003720</td>\n",
       "      <td>0.002878</td>\n",
       "      <td>0.001487</td>\n",
       "      <td>0.003366</td>\n",
       "      <td>0.001709</td>\n",
       "      <td>0.001965</td>\n",
       "      <td>0.001857</td>\n",
       "    </tr>\n",
       "    <tr>\n",
       "      <th>max</th>\n",
       "      <td>0.024040</td>\n",
       "      <td>0.007506</td>\n",
       "      <td>0.012992</td>\n",
       "      <td>0.101746</td>\n",
       "      <td>0.081500</td>\n",
       "      <td>0.034544</td>\n",
       "      <td>0.057349</td>\n",
       "      <td>0.078124</td>\n",
       "      <td>0.059890</td>\n",
       "      <td>0.245536</td>\n",
       "      <td>...</td>\n",
       "      <td>0.004545</td>\n",
       "      <td>0.125850</td>\n",
       "      <td>0.047447</td>\n",
       "      <td>0.890881</td>\n",
       "      <td>0.028752</td>\n",
       "      <td>0.003765</td>\n",
       "      <td>0.679910</td>\n",
       "      <td>0.020867</td>\n",
       "      <td>0.253538</td>\n",
       "      <td>0.020439</td>\n",
       "    </tr>\n",
       "  </tbody>\n",
       "</table>\n",
       "<p>8 rows × 206 columns</p>\n",
       "</div>"
      ],
      "text/plain": [
       "       5-alpha_reductase_inhibitor  11-beta-hsd1_inhibitor  acat_inhibitor  \\\n",
       "count                  3982.000000             3982.000000     3982.000000   \n",
       "mean                      0.001545                0.001587        0.001712   \n",
       "std                       0.000517                0.000323        0.000602   \n",
       "min                       0.001003                0.000996        0.001004   \n",
       "25%                       0.001442                0.001452        0.001511   \n",
       "50%                       0.001508                0.001539        0.001613   \n",
       "75%                       0.001582                0.001662        0.001770   \n",
       "max                       0.024040                0.007506        0.012992   \n",
       "\n",
       "       acetylcholine_receptor_agonist  acetylcholine_receptor_antagonist  \\\n",
       "count                     3982.000000                        3982.000000   \n",
       "mean                         0.006909                           0.011052   \n",
       "std                          0.004228                           0.007025   \n",
       "min                          0.000828                           0.000598   \n",
       "25%                          0.005045                           0.006613   \n",
       "50%                          0.006518                           0.010261   \n",
       "75%                          0.008242                           0.014248   \n",
       "max                          0.101746                           0.081500   \n",
       "\n",
       "       acetylcholinesterase_inhibitor  adenosine_receptor_agonist  \\\n",
       "count                     3982.000000                 3982.000000   \n",
       "mean                         0.003181                    0.002461   \n",
       "std                          0.001408                    0.001876   \n",
       "min                          0.001001                    0.000846   \n",
       "25%                          0.002457                    0.001904   \n",
       "50%                          0.003052                    0.002212   \n",
       "75%                          0.003648                    0.002597   \n",
       "max                          0.034544                    0.057349   \n",
       "\n",
       "       adenosine_receptor_antagonist  adenylyl_cyclase_activator  \\\n",
       "count                    3982.000000                 3982.000000   \n",
       "mean                        0.004512                    0.001459   \n",
       "std                         0.003599                    0.001232   \n",
       "min                         0.000719                    0.000990   \n",
       "25%                         0.003053                    0.001383   \n",
       "50%                         0.003930                    0.001428   \n",
       "75%                         0.004998                    0.001480   \n",
       "max                         0.078124                    0.059890   \n",
       "\n",
       "       adrenergic_receptor_agonist  ...  \\\n",
       "count                  3982.000000  ...   \n",
       "mean                      0.009987  ...   \n",
       "std                       0.010263  ...   \n",
       "min                       0.000690  ...   \n",
       "25%                       0.006088  ...   \n",
       "50%                       0.008694  ...   \n",
       "75%                       0.011701  ...   \n",
       "max                       0.245536  ...   \n",
       "\n",
       "       tropomyosin_receptor_kinase_inhibitor  trpv_agonist  trpv_antagonist  \\\n",
       "count                            3982.000000   3982.000000      3982.000000   \n",
       "mean                                0.001408      0.001814         0.001918   \n",
       "std                                 0.000155      0.002773         0.001053   \n",
       "min                                 0.001001      0.001000         0.000937   \n",
       "25%                                 0.001364      0.001488         0.001647   \n",
       "50%                                 0.001403      0.001590         0.001802   \n",
       "75%                                 0.001453      0.001763         0.002004   \n",
       "max                                 0.004545      0.125850         0.047447   \n",
       "\n",
       "       tubulin_inhibitor  tyrosine_kinase_inhibitor  \\\n",
       "count        3982.000000                3982.000000   \n",
       "mean            0.012505                   0.002727   \n",
       "std             0.079510                   0.001558   \n",
       "min             0.000861                   0.001184   \n",
       "25%             0.002085                   0.002039   \n",
       "50%             0.002689                   0.002366   \n",
       "75%             0.003720                   0.002878   \n",
       "max             0.890881                   0.028752   \n",
       "\n",
       "       ubiquitin_specific_protease_inhibitor  vegfr_inhibitor    vitamin_b  \\\n",
       "count                            3982.000000      3982.000000  3982.000000   \n",
       "mean                                0.001430         0.005926     0.001640   \n",
       "std                                 0.000157         0.026243     0.000467   \n",
       "min                                 0.001007         0.000829     0.001001   \n",
       "25%                                 0.001376         0.002027     0.001508   \n",
       "50%                                 0.001427         0.002420     0.001598   \n",
       "75%                                 0.001487         0.003366     0.001709   \n",
       "max                                 0.003765         0.679910     0.020867   \n",
       "\n",
       "       vitamin_d_receptor_agonist  wnt_inhibitor  \n",
       "count                 3982.000000    3982.000000  \n",
       "mean                     0.002198       0.001781  \n",
       "std                      0.008607       0.000660  \n",
       "min                      0.000851       0.001006  \n",
       "25%                      0.001558       0.001563  \n",
       "50%                      0.001734       0.001687  \n",
       "75%                      0.001965       0.001857  \n",
       "max                      0.253538       0.020439  \n",
       "\n",
       "[8 rows x 206 columns]"
      ]
     },
     "execution_count": 26,
     "metadata": {},
     "output_type": "execute_result"
    }
   ],
   "source": [
    "### Insight into final predictions\n",
    "\n",
    "sample_sub_df.describe()"
   ]
  }
 ],
 "metadata": {
  "kernelspec": {
   "display_name": "Python 3",
   "language": "python",
   "name": "python3"
  },
  "language_info": {
   "codemirror_mode": {
    "name": "ipython",
    "version": 3
   },
   "file_extension": ".py",
   "mimetype": "text/x-python",
   "name": "python",
   "nbconvert_exporter": "python",
   "pygments_lexer": "ipython3",
   "version": "3.7.6"
  },
  "papermill": {
   "duration": 1307.426484,
   "end_time": "2020-09-17T01:26:54.832073",
   "environment_variables": {},
   "exception": null,
   "input_path": "__notebook__.ipynb",
   "output_path": "__notebook__.ipynb",
   "parameters": {},
   "start_time": "2020-09-17T01:05:07.405589",
   "version": "2.1.0"
  }
 },
 "nbformat": 4,
 "nbformat_minor": 4
}
