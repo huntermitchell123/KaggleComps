{
  "nbformat": 4,
  "nbformat_minor": 0,
  "metadata": {
    "colab": {
      "name": "HousingClassification.ipynb",
      "provenance": [],
      "toc_visible": true
    },
    "kernelspec": {
      "name": "python3",
      "display_name": "Python 3"
    }
  },
  "cells": [
    {
      "cell_type": "markdown",
      "metadata": {
        "id": "ay_yL8gP8nqj"
      },
      "source": [
        "**Hunter Mitchell**\n",
        "\n",
        "**October 18th, 2020**"
      ]
    },
    {
      "cell_type": "markdown",
      "metadata": {
        "id": "fWA2adaoaPGr"
      },
      "source": [
        "**Problem Statement:**\n",
        "\n",
        "The objective is to construct a model which accurately predicts whether a house will sell at above or below \\$200,000. This is a binary classification problem and will be approached using Machine Learning and Data Science fundamentals."
      ]
    },
    {
      "cell_type": "markdown",
      "metadata": {
        "id": "IDsC0XJ7ao7t"
      },
      "source": [
        "# EDA"
      ]
    },
    {
      "cell_type": "markdown",
      "metadata": {
        "id": "U7p6wDuBmAlV"
      },
      "source": [
        "Start by importing necessary libraries to explore the data"
      ]
    },
    {
      "cell_type": "code",
      "metadata": {
        "id": "Z2sbcARm8KlN"
      },
      "source": [
        "import pandas as pd\n",
        "import numpy as np\n",
        "\n",
        "SEED = 42 # for reproducability\n",
        "\n",
        "import warnings\n",
        "warnings.filterwarnings('ignore') # ignoring any warnings"
      ],
      "execution_count": 1,
      "outputs": []
    },
    {
      "cell_type": "markdown",
      "metadata": {
        "id": "HAEJUJ-CmJye"
      },
      "source": [
        "Loading in the training data downloaded from [here](https://www.kaggle.com/c/home-data-for-ml-course/data)"
      ]
    },
    {
      "cell_type": "code",
      "metadata": {
        "id": "x57LvYH49Qhf"
      },
      "source": [
        "TRAIN_PATH = '/content/train.csv'\n",
        "\n",
        "train = pd.read_csv(TRAIN_PATH)"
      ],
      "execution_count": 2,
      "outputs": []
    },
    {
      "cell_type": "code",
      "metadata": {
        "id": "dycwWTnea6kD",
        "outputId": "bf8aa82f-c025-48bb-9566-a95f87e08e7d",
        "colab": {
          "base_uri": "https://localhost:8080/",
          "height": 34
        }
      },
      "source": [
        "train.shape"
      ],
      "execution_count": 3,
      "outputs": [
        {
          "output_type": "execute_result",
          "data": {
            "text/plain": [
              "(1460, 81)"
            ]
          },
          "metadata": {
            "tags": []
          },
          "execution_count": 3
        }
      ]
    },
    {
      "cell_type": "markdown",
      "metadata": {
        "id": "_LcJsSWfmb6o"
      },
      "source": [
        "It looks like there are 1,460 instances with 81 total columns. I'm going to take a look at a few rows to understand the data better."
      ]
    },
    {
      "cell_type": "code",
      "metadata": {
        "id": "hqhQOGdu9bPZ",
        "outputId": "fb605828-d60b-41a9-c949-b3fe87fbc957",
        "colab": {
          "base_uri": "https://localhost:8080/",
          "height": 246
        }
      },
      "source": [
        "train.head()"
      ],
      "execution_count": 4,
      "outputs": [
        {
          "output_type": "execute_result",
          "data": {
            "text/html": [
              "<div>\n",
              "<style scoped>\n",
              "    .dataframe tbody tr th:only-of-type {\n",
              "        vertical-align: middle;\n",
              "    }\n",
              "\n",
              "    .dataframe tbody tr th {\n",
              "        vertical-align: top;\n",
              "    }\n",
              "\n",
              "    .dataframe thead th {\n",
              "        text-align: right;\n",
              "    }\n",
              "</style>\n",
              "<table border=\"1\" class=\"dataframe\">\n",
              "  <thead>\n",
              "    <tr style=\"text-align: right;\">\n",
              "      <th></th>\n",
              "      <th>Id</th>\n",
              "      <th>MSSubClass</th>\n",
              "      <th>MSZoning</th>\n",
              "      <th>LotFrontage</th>\n",
              "      <th>LotArea</th>\n",
              "      <th>Street</th>\n",
              "      <th>Alley</th>\n",
              "      <th>LotShape</th>\n",
              "      <th>LandContour</th>\n",
              "      <th>Utilities</th>\n",
              "      <th>LotConfig</th>\n",
              "      <th>LandSlope</th>\n",
              "      <th>Neighborhood</th>\n",
              "      <th>Condition1</th>\n",
              "      <th>Condition2</th>\n",
              "      <th>BldgType</th>\n",
              "      <th>HouseStyle</th>\n",
              "      <th>OverallQual</th>\n",
              "      <th>OverallCond</th>\n",
              "      <th>YearBuilt</th>\n",
              "      <th>YearRemodAdd</th>\n",
              "      <th>RoofStyle</th>\n",
              "      <th>RoofMatl</th>\n",
              "      <th>Exterior1st</th>\n",
              "      <th>Exterior2nd</th>\n",
              "      <th>MasVnrType</th>\n",
              "      <th>MasVnrArea</th>\n",
              "      <th>ExterQual</th>\n",
              "      <th>ExterCond</th>\n",
              "      <th>Foundation</th>\n",
              "      <th>BsmtQual</th>\n",
              "      <th>BsmtCond</th>\n",
              "      <th>BsmtExposure</th>\n",
              "      <th>BsmtFinType1</th>\n",
              "      <th>BsmtFinSF1</th>\n",
              "      <th>BsmtFinType2</th>\n",
              "      <th>BsmtFinSF2</th>\n",
              "      <th>BsmtUnfSF</th>\n",
              "      <th>TotalBsmtSF</th>\n",
              "      <th>Heating</th>\n",
              "      <th>...</th>\n",
              "      <th>CentralAir</th>\n",
              "      <th>Electrical</th>\n",
              "      <th>1stFlrSF</th>\n",
              "      <th>2ndFlrSF</th>\n",
              "      <th>LowQualFinSF</th>\n",
              "      <th>GrLivArea</th>\n",
              "      <th>BsmtFullBath</th>\n",
              "      <th>BsmtHalfBath</th>\n",
              "      <th>FullBath</th>\n",
              "      <th>HalfBath</th>\n",
              "      <th>BedroomAbvGr</th>\n",
              "      <th>KitchenAbvGr</th>\n",
              "      <th>KitchenQual</th>\n",
              "      <th>TotRmsAbvGrd</th>\n",
              "      <th>Functional</th>\n",
              "      <th>Fireplaces</th>\n",
              "      <th>FireplaceQu</th>\n",
              "      <th>GarageType</th>\n",
              "      <th>GarageYrBlt</th>\n",
              "      <th>GarageFinish</th>\n",
              "      <th>GarageCars</th>\n",
              "      <th>GarageArea</th>\n",
              "      <th>GarageQual</th>\n",
              "      <th>GarageCond</th>\n",
              "      <th>PavedDrive</th>\n",
              "      <th>WoodDeckSF</th>\n",
              "      <th>OpenPorchSF</th>\n",
              "      <th>EnclosedPorch</th>\n",
              "      <th>3SsnPorch</th>\n",
              "      <th>ScreenPorch</th>\n",
              "      <th>PoolArea</th>\n",
              "      <th>PoolQC</th>\n",
              "      <th>Fence</th>\n",
              "      <th>MiscFeature</th>\n",
              "      <th>MiscVal</th>\n",
              "      <th>MoSold</th>\n",
              "      <th>YrSold</th>\n",
              "      <th>SaleType</th>\n",
              "      <th>SaleCondition</th>\n",
              "      <th>SalePrice</th>\n",
              "    </tr>\n",
              "  </thead>\n",
              "  <tbody>\n",
              "    <tr>\n",
              "      <th>0</th>\n",
              "      <td>1</td>\n",
              "      <td>60</td>\n",
              "      <td>RL</td>\n",
              "      <td>65.0</td>\n",
              "      <td>8450</td>\n",
              "      <td>Pave</td>\n",
              "      <td>NaN</td>\n",
              "      <td>Reg</td>\n",
              "      <td>Lvl</td>\n",
              "      <td>AllPub</td>\n",
              "      <td>Inside</td>\n",
              "      <td>Gtl</td>\n",
              "      <td>CollgCr</td>\n",
              "      <td>Norm</td>\n",
              "      <td>Norm</td>\n",
              "      <td>1Fam</td>\n",
              "      <td>2Story</td>\n",
              "      <td>7</td>\n",
              "      <td>5</td>\n",
              "      <td>2003</td>\n",
              "      <td>2003</td>\n",
              "      <td>Gable</td>\n",
              "      <td>CompShg</td>\n",
              "      <td>VinylSd</td>\n",
              "      <td>VinylSd</td>\n",
              "      <td>BrkFace</td>\n",
              "      <td>196.0</td>\n",
              "      <td>Gd</td>\n",
              "      <td>TA</td>\n",
              "      <td>PConc</td>\n",
              "      <td>Gd</td>\n",
              "      <td>TA</td>\n",
              "      <td>No</td>\n",
              "      <td>GLQ</td>\n",
              "      <td>706</td>\n",
              "      <td>Unf</td>\n",
              "      <td>0</td>\n",
              "      <td>150</td>\n",
              "      <td>856</td>\n",
              "      <td>GasA</td>\n",
              "      <td>...</td>\n",
              "      <td>Y</td>\n",
              "      <td>SBrkr</td>\n",
              "      <td>856</td>\n",
              "      <td>854</td>\n",
              "      <td>0</td>\n",
              "      <td>1710</td>\n",
              "      <td>1</td>\n",
              "      <td>0</td>\n",
              "      <td>2</td>\n",
              "      <td>1</td>\n",
              "      <td>3</td>\n",
              "      <td>1</td>\n",
              "      <td>Gd</td>\n",
              "      <td>8</td>\n",
              "      <td>Typ</td>\n",
              "      <td>0</td>\n",
              "      <td>NaN</td>\n",
              "      <td>Attchd</td>\n",
              "      <td>2003.0</td>\n",
              "      <td>RFn</td>\n",
              "      <td>2</td>\n",
              "      <td>548</td>\n",
              "      <td>TA</td>\n",
              "      <td>TA</td>\n",
              "      <td>Y</td>\n",
              "      <td>0</td>\n",
              "      <td>61</td>\n",
              "      <td>0</td>\n",
              "      <td>0</td>\n",
              "      <td>0</td>\n",
              "      <td>0</td>\n",
              "      <td>NaN</td>\n",
              "      <td>NaN</td>\n",
              "      <td>NaN</td>\n",
              "      <td>0</td>\n",
              "      <td>2</td>\n",
              "      <td>2008</td>\n",
              "      <td>WD</td>\n",
              "      <td>Normal</td>\n",
              "      <td>208500</td>\n",
              "    </tr>\n",
              "    <tr>\n",
              "      <th>1</th>\n",
              "      <td>2</td>\n",
              "      <td>20</td>\n",
              "      <td>RL</td>\n",
              "      <td>80.0</td>\n",
              "      <td>9600</td>\n",
              "      <td>Pave</td>\n",
              "      <td>NaN</td>\n",
              "      <td>Reg</td>\n",
              "      <td>Lvl</td>\n",
              "      <td>AllPub</td>\n",
              "      <td>FR2</td>\n",
              "      <td>Gtl</td>\n",
              "      <td>Veenker</td>\n",
              "      <td>Feedr</td>\n",
              "      <td>Norm</td>\n",
              "      <td>1Fam</td>\n",
              "      <td>1Story</td>\n",
              "      <td>6</td>\n",
              "      <td>8</td>\n",
              "      <td>1976</td>\n",
              "      <td>1976</td>\n",
              "      <td>Gable</td>\n",
              "      <td>CompShg</td>\n",
              "      <td>MetalSd</td>\n",
              "      <td>MetalSd</td>\n",
              "      <td>None</td>\n",
              "      <td>0.0</td>\n",
              "      <td>TA</td>\n",
              "      <td>TA</td>\n",
              "      <td>CBlock</td>\n",
              "      <td>Gd</td>\n",
              "      <td>TA</td>\n",
              "      <td>Gd</td>\n",
              "      <td>ALQ</td>\n",
              "      <td>978</td>\n",
              "      <td>Unf</td>\n",
              "      <td>0</td>\n",
              "      <td>284</td>\n",
              "      <td>1262</td>\n",
              "      <td>GasA</td>\n",
              "      <td>...</td>\n",
              "      <td>Y</td>\n",
              "      <td>SBrkr</td>\n",
              "      <td>1262</td>\n",
              "      <td>0</td>\n",
              "      <td>0</td>\n",
              "      <td>1262</td>\n",
              "      <td>0</td>\n",
              "      <td>1</td>\n",
              "      <td>2</td>\n",
              "      <td>0</td>\n",
              "      <td>3</td>\n",
              "      <td>1</td>\n",
              "      <td>TA</td>\n",
              "      <td>6</td>\n",
              "      <td>Typ</td>\n",
              "      <td>1</td>\n",
              "      <td>TA</td>\n",
              "      <td>Attchd</td>\n",
              "      <td>1976.0</td>\n",
              "      <td>RFn</td>\n",
              "      <td>2</td>\n",
              "      <td>460</td>\n",
              "      <td>TA</td>\n",
              "      <td>TA</td>\n",
              "      <td>Y</td>\n",
              "      <td>298</td>\n",
              "      <td>0</td>\n",
              "      <td>0</td>\n",
              "      <td>0</td>\n",
              "      <td>0</td>\n",
              "      <td>0</td>\n",
              "      <td>NaN</td>\n",
              "      <td>NaN</td>\n",
              "      <td>NaN</td>\n",
              "      <td>0</td>\n",
              "      <td>5</td>\n",
              "      <td>2007</td>\n",
              "      <td>WD</td>\n",
              "      <td>Normal</td>\n",
              "      <td>181500</td>\n",
              "    </tr>\n",
              "    <tr>\n",
              "      <th>2</th>\n",
              "      <td>3</td>\n",
              "      <td>60</td>\n",
              "      <td>RL</td>\n",
              "      <td>68.0</td>\n",
              "      <td>11250</td>\n",
              "      <td>Pave</td>\n",
              "      <td>NaN</td>\n",
              "      <td>IR1</td>\n",
              "      <td>Lvl</td>\n",
              "      <td>AllPub</td>\n",
              "      <td>Inside</td>\n",
              "      <td>Gtl</td>\n",
              "      <td>CollgCr</td>\n",
              "      <td>Norm</td>\n",
              "      <td>Norm</td>\n",
              "      <td>1Fam</td>\n",
              "      <td>2Story</td>\n",
              "      <td>7</td>\n",
              "      <td>5</td>\n",
              "      <td>2001</td>\n",
              "      <td>2002</td>\n",
              "      <td>Gable</td>\n",
              "      <td>CompShg</td>\n",
              "      <td>VinylSd</td>\n",
              "      <td>VinylSd</td>\n",
              "      <td>BrkFace</td>\n",
              "      <td>162.0</td>\n",
              "      <td>Gd</td>\n",
              "      <td>TA</td>\n",
              "      <td>PConc</td>\n",
              "      <td>Gd</td>\n",
              "      <td>TA</td>\n",
              "      <td>Mn</td>\n",
              "      <td>GLQ</td>\n",
              "      <td>486</td>\n",
              "      <td>Unf</td>\n",
              "      <td>0</td>\n",
              "      <td>434</td>\n",
              "      <td>920</td>\n",
              "      <td>GasA</td>\n",
              "      <td>...</td>\n",
              "      <td>Y</td>\n",
              "      <td>SBrkr</td>\n",
              "      <td>920</td>\n",
              "      <td>866</td>\n",
              "      <td>0</td>\n",
              "      <td>1786</td>\n",
              "      <td>1</td>\n",
              "      <td>0</td>\n",
              "      <td>2</td>\n",
              "      <td>1</td>\n",
              "      <td>3</td>\n",
              "      <td>1</td>\n",
              "      <td>Gd</td>\n",
              "      <td>6</td>\n",
              "      <td>Typ</td>\n",
              "      <td>1</td>\n",
              "      <td>TA</td>\n",
              "      <td>Attchd</td>\n",
              "      <td>2001.0</td>\n",
              "      <td>RFn</td>\n",
              "      <td>2</td>\n",
              "      <td>608</td>\n",
              "      <td>TA</td>\n",
              "      <td>TA</td>\n",
              "      <td>Y</td>\n",
              "      <td>0</td>\n",
              "      <td>42</td>\n",
              "      <td>0</td>\n",
              "      <td>0</td>\n",
              "      <td>0</td>\n",
              "      <td>0</td>\n",
              "      <td>NaN</td>\n",
              "      <td>NaN</td>\n",
              "      <td>NaN</td>\n",
              "      <td>0</td>\n",
              "      <td>9</td>\n",
              "      <td>2008</td>\n",
              "      <td>WD</td>\n",
              "      <td>Normal</td>\n",
              "      <td>223500</td>\n",
              "    </tr>\n",
              "    <tr>\n",
              "      <th>3</th>\n",
              "      <td>4</td>\n",
              "      <td>70</td>\n",
              "      <td>RL</td>\n",
              "      <td>60.0</td>\n",
              "      <td>9550</td>\n",
              "      <td>Pave</td>\n",
              "      <td>NaN</td>\n",
              "      <td>IR1</td>\n",
              "      <td>Lvl</td>\n",
              "      <td>AllPub</td>\n",
              "      <td>Corner</td>\n",
              "      <td>Gtl</td>\n",
              "      <td>Crawfor</td>\n",
              "      <td>Norm</td>\n",
              "      <td>Norm</td>\n",
              "      <td>1Fam</td>\n",
              "      <td>2Story</td>\n",
              "      <td>7</td>\n",
              "      <td>5</td>\n",
              "      <td>1915</td>\n",
              "      <td>1970</td>\n",
              "      <td>Gable</td>\n",
              "      <td>CompShg</td>\n",
              "      <td>Wd Sdng</td>\n",
              "      <td>Wd Shng</td>\n",
              "      <td>None</td>\n",
              "      <td>0.0</td>\n",
              "      <td>TA</td>\n",
              "      <td>TA</td>\n",
              "      <td>BrkTil</td>\n",
              "      <td>TA</td>\n",
              "      <td>Gd</td>\n",
              "      <td>No</td>\n",
              "      <td>ALQ</td>\n",
              "      <td>216</td>\n",
              "      <td>Unf</td>\n",
              "      <td>0</td>\n",
              "      <td>540</td>\n",
              "      <td>756</td>\n",
              "      <td>GasA</td>\n",
              "      <td>...</td>\n",
              "      <td>Y</td>\n",
              "      <td>SBrkr</td>\n",
              "      <td>961</td>\n",
              "      <td>756</td>\n",
              "      <td>0</td>\n",
              "      <td>1717</td>\n",
              "      <td>1</td>\n",
              "      <td>0</td>\n",
              "      <td>1</td>\n",
              "      <td>0</td>\n",
              "      <td>3</td>\n",
              "      <td>1</td>\n",
              "      <td>Gd</td>\n",
              "      <td>7</td>\n",
              "      <td>Typ</td>\n",
              "      <td>1</td>\n",
              "      <td>Gd</td>\n",
              "      <td>Detchd</td>\n",
              "      <td>1998.0</td>\n",
              "      <td>Unf</td>\n",
              "      <td>3</td>\n",
              "      <td>642</td>\n",
              "      <td>TA</td>\n",
              "      <td>TA</td>\n",
              "      <td>Y</td>\n",
              "      <td>0</td>\n",
              "      <td>35</td>\n",
              "      <td>272</td>\n",
              "      <td>0</td>\n",
              "      <td>0</td>\n",
              "      <td>0</td>\n",
              "      <td>NaN</td>\n",
              "      <td>NaN</td>\n",
              "      <td>NaN</td>\n",
              "      <td>0</td>\n",
              "      <td>2</td>\n",
              "      <td>2006</td>\n",
              "      <td>WD</td>\n",
              "      <td>Abnorml</td>\n",
              "      <td>140000</td>\n",
              "    </tr>\n",
              "    <tr>\n",
              "      <th>4</th>\n",
              "      <td>5</td>\n",
              "      <td>60</td>\n",
              "      <td>RL</td>\n",
              "      <td>84.0</td>\n",
              "      <td>14260</td>\n",
              "      <td>Pave</td>\n",
              "      <td>NaN</td>\n",
              "      <td>IR1</td>\n",
              "      <td>Lvl</td>\n",
              "      <td>AllPub</td>\n",
              "      <td>FR2</td>\n",
              "      <td>Gtl</td>\n",
              "      <td>NoRidge</td>\n",
              "      <td>Norm</td>\n",
              "      <td>Norm</td>\n",
              "      <td>1Fam</td>\n",
              "      <td>2Story</td>\n",
              "      <td>8</td>\n",
              "      <td>5</td>\n",
              "      <td>2000</td>\n",
              "      <td>2000</td>\n",
              "      <td>Gable</td>\n",
              "      <td>CompShg</td>\n",
              "      <td>VinylSd</td>\n",
              "      <td>VinylSd</td>\n",
              "      <td>BrkFace</td>\n",
              "      <td>350.0</td>\n",
              "      <td>Gd</td>\n",
              "      <td>TA</td>\n",
              "      <td>PConc</td>\n",
              "      <td>Gd</td>\n",
              "      <td>TA</td>\n",
              "      <td>Av</td>\n",
              "      <td>GLQ</td>\n",
              "      <td>655</td>\n",
              "      <td>Unf</td>\n",
              "      <td>0</td>\n",
              "      <td>490</td>\n",
              "      <td>1145</td>\n",
              "      <td>GasA</td>\n",
              "      <td>...</td>\n",
              "      <td>Y</td>\n",
              "      <td>SBrkr</td>\n",
              "      <td>1145</td>\n",
              "      <td>1053</td>\n",
              "      <td>0</td>\n",
              "      <td>2198</td>\n",
              "      <td>1</td>\n",
              "      <td>0</td>\n",
              "      <td>2</td>\n",
              "      <td>1</td>\n",
              "      <td>4</td>\n",
              "      <td>1</td>\n",
              "      <td>Gd</td>\n",
              "      <td>9</td>\n",
              "      <td>Typ</td>\n",
              "      <td>1</td>\n",
              "      <td>TA</td>\n",
              "      <td>Attchd</td>\n",
              "      <td>2000.0</td>\n",
              "      <td>RFn</td>\n",
              "      <td>3</td>\n",
              "      <td>836</td>\n",
              "      <td>TA</td>\n",
              "      <td>TA</td>\n",
              "      <td>Y</td>\n",
              "      <td>192</td>\n",
              "      <td>84</td>\n",
              "      <td>0</td>\n",
              "      <td>0</td>\n",
              "      <td>0</td>\n",
              "      <td>0</td>\n",
              "      <td>NaN</td>\n",
              "      <td>NaN</td>\n",
              "      <td>NaN</td>\n",
              "      <td>0</td>\n",
              "      <td>12</td>\n",
              "      <td>2008</td>\n",
              "      <td>WD</td>\n",
              "      <td>Normal</td>\n",
              "      <td>250000</td>\n",
              "    </tr>\n",
              "  </tbody>\n",
              "</table>\n",
              "<p>5 rows × 81 columns</p>\n",
              "</div>"
            ],
            "text/plain": [
              "   Id  MSSubClass MSZoning  ...  SaleType  SaleCondition SalePrice\n",
              "0   1          60       RL  ...        WD         Normal    208500\n",
              "1   2          20       RL  ...        WD         Normal    181500\n",
              "2   3          60       RL  ...        WD         Normal    223500\n",
              "3   4          70       RL  ...        WD        Abnorml    140000\n",
              "4   5          60       RL  ...        WD         Normal    250000\n",
              "\n",
              "[5 rows x 81 columns]"
            ]
          },
          "metadata": {
            "tags": []
          },
          "execution_count": 4
        }
      ]
    },
    {
      "cell_type": "markdown",
      "metadata": {
        "id": "GM1rsjJ7tS0K"
      },
      "source": [
        "It looks like there's a lot of categorical data. Let's see how many categorical columns and numerical columns there are."
      ]
    },
    {
      "cell_type": "code",
      "metadata": {
        "id": "c49xJOsOtTfr",
        "outputId": "d1704fb0-7b6c-4e5f-c6db-97273e300e9d",
        "colab": {
          "base_uri": "https://localhost:8080/",
          "height": 52
        }
      },
      "source": [
        "cat_columns = list(train.select_dtypes(include='object').columns)\n",
        "print(len(cat_columns), 'Categorical columns')\n",
        "print(train.shape[1] - len(train.select_dtypes(include='object').columns), 'Numerical columns')"
      ],
      "execution_count": 5,
      "outputs": [
        {
          "output_type": "stream",
          "text": [
            "43 Categorical columns\n",
            "38 Numerical columns\n"
          ],
          "name": "stdout"
        }
      ]
    },
    {
      "cell_type": "markdown",
      "metadata": {
        "id": "HNdlKMdLtsO-"
      },
      "source": [
        "There are a bit more categorical columns than numerical. Before the data can be fed into the model, all the categorical columns will need to be encoded."
      ]
    },
    {
      "cell_type": "markdown",
      "metadata": {
        "id": "rkCzXUfOoT3r"
      },
      "source": [
        "Now I'm going to look at the target variable, 'SalePrice'."
      ]
    },
    {
      "cell_type": "code",
      "metadata": {
        "id": "FrTGGM9JoqOu",
        "outputId": "1609e2e2-2941-4a6a-a5a4-883b9d60ab95",
        "colab": {
          "base_uri": "https://localhost:8080/",
          "height": 176
        }
      },
      "source": [
        "train['SalePrice'].describe()"
      ],
      "execution_count": 6,
      "outputs": [
        {
          "output_type": "execute_result",
          "data": {
            "text/plain": [
              "count      1460.000000\n",
              "mean     180921.195890\n",
              "std       79442.502883\n",
              "min       34900.000000\n",
              "25%      129975.000000\n",
              "50%      163000.000000\n",
              "75%      214000.000000\n",
              "max      755000.000000\n",
              "Name: SalePrice, dtype: float64"
            ]
          },
          "metadata": {
            "tags": []
          },
          "execution_count": 6
        }
      ]
    },
    {
      "cell_type": "markdown",
      "metadata": {
        "id": "CWhGrZc1ozDV"
      },
      "source": [
        "And plot the distribution"
      ]
    },
    {
      "cell_type": "code",
      "metadata": {
        "id": "hdDjDFw9oujW",
        "outputId": "b92641d5-5deb-4693-fe36-5ac4b1ab733c",
        "colab": {
          "base_uri": "https://localhost:8080/",
          "height": 434
        }
      },
      "source": [
        "import matplotlib.pyplot as plt\n",
        "\n",
        "# Histogram\n",
        "plt.figure(figsize=(6,6))\n",
        "plt.hist(train['SalePrice'], bins=30, color='salmon')\n",
        "plt.title('Sale Price Histogram', fontdict={'fontsize': 18}, pad = 20)\n",
        "plt.xlabel('Price (US Dollars)')\n",
        "plt.show()"
      ],
      "execution_count": 69,
      "outputs": [
        {
          "output_type": "display_data",
          "data": {
            "image/png": "[encoded data removed]",
            "text/plain": [
              "<Figure size 432x432 with 1 Axes>"
            ]
          },
          "metadata": {
            "tags": []
          }
        }
      ]
    },
    {
      "cell_type": "markdown",
      "metadata": {
        "id": "nqQmhWTUo_7B"
      },
      "source": [
        "The target variable seems to be normally distributed but perhaps skewed right a bit. It also looks like there are more instances that are under $200,000 than over. I'll plot this as a pie chart as well."
      ]
    },
    {
      "cell_type": "code",
      "metadata": {
        "id": "t65rmhVIpnMj",
        "outputId": "93d1abdd-0f8e-4cab-fbb8-eb9a7d21752a",
        "colab": {
          "base_uri": "https://localhost:8080/",
          "height": 321
        }
      },
      "source": [
        "# Pie Chart\n",
        "\n",
        "plt.figure(figsize=(5,5))\n",
        "labels = ['< $200,000', '> $200,000']\n",
        "sizes = [len(train[train['SalePrice'] < 200000]), \n",
        "         len(train[train['SalePrice'] > 200000])]\n",
        "\n",
        "plt.pie(sizes, labels=labels, autopct='%1.1f%%', explode=[0,0.08], startangle=90)\n",
        "plt.title('Price Distribution', fontdict={'fontsize': 16})\n",
        "plt.axis('equal')\n",
        "plt.show()"
      ],
      "execution_count": 70,
      "outputs": [
        {
          "output_type": "display_data",
          "data": {
            "image/png": "[encoded data removed]",
            "text/plain": [
              "<Figure size 360x360 with 1 Axes>"
            ]
          },
          "metadata": {
            "tags": []
          }
        }
      ]
    },
    {
      "cell_type": "markdown",
      "metadata": {
        "id": "uddUY59zrp9F"
      },
      "source": [
        "It turns out just over 70% of the houses are less than \\$200,000. \n",
        "\n",
        "There could also be houses that are exactly \\$200,000."
      ]
    },
    {
      "cell_type": "code",
      "metadata": {
        "id": "rF6SepdFro_I",
        "outputId": "dfa4c55b-9e82-4990-e595-5b2f18ab0032",
        "colab": {
          "base_uri": "https://localhost:8080/",
          "height": 34
        }
      },
      "source": [
        "print('There are', len(train[train['SalePrice'] == 200000]), 'Houses that are exactly $200,000')"
      ],
      "execution_count": 24,
      "outputs": [
        {
          "output_type": "stream",
          "text": [
            "There are 8 Houses that are exactly $200,000\n"
          ],
          "name": "stdout"
        }
      ]
    },
    {
      "cell_type": "markdown",
      "metadata": {
        "id": "INjY2QCysjv6"
      },
      "source": [
        "The instructions state to only classify houses as above or below $200,000, so I am going to drop these rows when I clean the data."
      ]
    },
    {
      "cell_type": "markdown",
      "metadata": {
        "id": "OFxalIBrnp2N"
      },
      "source": [
        "Since this is typically a regression problem, we can get some insight into what features will probably be most useful by looking at how they correlate to sales price."
      ]
    },
    {
      "cell_type": "code",
      "metadata": {
        "id": "ux879z-99mbC",
        "outputId": "0d20d46e-dd22-4528-ce68-8c8cf5da8f85",
        "colab": {
          "base_uri": "https://localhost:8080/",
          "height": 301
        }
      },
      "source": [
        "corr_matrix = train.corr()\n",
        "corr_matrix['SalePrice'].sort_values(ascending=False).head(15)"
      ],
      "execution_count": 25,
      "outputs": [
        {
          "output_type": "execute_result",
          "data": {
            "text/plain": [
              "SalePrice       1.000000\n",
              "OverallQual     0.790982\n",
              "GrLivArea       0.708624\n",
              "GarageCars      0.640409\n",
              "GarageArea      0.623431\n",
              "TotalBsmtSF     0.613581\n",
              "1stFlrSF        0.605852\n",
              "FullBath        0.560664\n",
              "TotRmsAbvGrd    0.533723\n",
              "YearBuilt       0.522897\n",
              "YearRemodAdd    0.507101\n",
              "GarageYrBlt     0.486362\n",
              "MasVnrArea      0.477493\n",
              "Fireplaces      0.466929\n",
              "BsmtFinSF1      0.386420\n",
              "Name: SalePrice, dtype: float64"
            ]
          },
          "metadata": {
            "tags": []
          },
          "execution_count": 25
        }
      ]
    },
    {
      "cell_type": "markdown",
      "metadata": {
        "id": "F_R0_if0tIAo"
      },
      "source": [
        "For the numerical features, it looks like 'OverallQual' and 'GrLivArea' will most likely impact the classifications the most, since they correlate highest to sale price"
      ]
    },
    {
      "cell_type": "markdown",
      "metadata": {
        "id": "fSn3c3ZJ_77W"
      },
      "source": [
        "# Prepare Data"
      ]
    },
    {
      "cell_type": "markdown",
      "metadata": {
        "id": "PHsLYiZquwk-"
      },
      "source": [
        "First, drop instances of exactly $200,000 as discussed already."
      ]
    },
    {
      "cell_type": "code",
      "metadata": {
        "id": "fAsxojBkuv29"
      },
      "source": [
        "train = train[train['SalePrice'] != 200000]"
      ],
      "execution_count": 26,
      "outputs": []
    },
    {
      "cell_type": "markdown",
      "metadata": {
        "id": "qrMtLBngvEM0"
      },
      "source": [
        "Now create target column containing a 1 if the price is greater than $200,000, and a 0 if it is less."
      ]
    },
    {
      "cell_type": "code",
      "metadata": {
        "id": "3LdigAeyqi9f"
      },
      "source": [
        "target = train['SalePrice'].apply(lambda x: 1 if x > 200000 else 0)"
      ],
      "execution_count": 27,
      "outputs": []
    },
    {
      "cell_type": "markdown",
      "metadata": {
        "id": "lvA0e-VTFBYw"
      },
      "source": [
        ""
      ]
    },
    {
      "cell_type": "markdown",
      "metadata": {
        "id": "-21UiotkvTPG"
      },
      "source": [
        "The features are every column other than the Id and Price"
      ]
    },
    {
      "cell_type": "code",
      "metadata": {
        "id": "weqfOmSPq9hq"
      },
      "source": [
        "features = train.drop(columns=['SalePrice','Id'])"
      ],
      "execution_count": 28,
      "outputs": []
    },
    {
      "cell_type": "markdown",
      "metadata": {
        "id": "mlPTAU_svY0C"
      },
      "source": [
        "Before I do anything else, I am going to create a test set to verify the model's performance on data it has never seen before."
      ]
    },
    {
      "cell_type": "code",
      "metadata": {
        "id": "9efpFqlrqmwv"
      },
      "source": [
        "from sklearn.model_selection import train_test_split"
      ],
      "execution_count": 29,
      "outputs": []
    },
    {
      "cell_type": "code",
      "metadata": {
        "id": "eof7bsPYqmLi"
      },
      "source": [
        "x_train,x_test,y_train,y_test = train_test_split(features,\n",
        "                                                 target,\n",
        "                                                 test_size=0.2,\n",
        "                                                 random_state=SEED)"
      ],
      "execution_count": 74,
      "outputs": []
    },
    {
      "cell_type": "markdown",
      "metadata": {
        "id": "5LnCg7dNv2VM"
      },
      "source": [
        "Now I am going to check for null values in the data. If a column has a lot of missing data, I am going to drop the whole column, as it will not carry much information."
      ]
    },
    {
      "cell_type": "code",
      "metadata": {
        "id": "rUjeGykfwMjv",
        "outputId": "2dc93d57-5f3a-49a2-e085-be870398796e",
        "colab": {
          "base_uri": "https://localhost:8080/",
          "height": 478
        }
      },
      "source": [
        "x_train[x_train.columns[x_train.isna().any()].tolist()].info()"
      ],
      "execution_count": 75,
      "outputs": [
        {
          "output_type": "stream",
          "text": [
            "<class 'pandas.core.frame.DataFrame'>\n",
            "Int64Index: 1161 entries, 1268 to 1131\n",
            "Data columns (total 19 columns):\n",
            " #   Column        Non-Null Count  Dtype  \n",
            "---  ------        --------------  -----  \n",
            " 0   LotFrontage   953 non-null    float64\n",
            " 1   Alley         71 non-null     object \n",
            " 2   MasVnrType    1155 non-null   object \n",
            " 3   MasVnrArea    1155 non-null   float64\n",
            " 4   BsmtQual      1129 non-null   object \n",
            " 5   BsmtCond      1129 non-null   object \n",
            " 6   BsmtExposure  1129 non-null   object \n",
            " 7   BsmtFinType1  1129 non-null   object \n",
            " 8   BsmtFinType2  1128 non-null   object \n",
            " 9   Electrical    1160 non-null   object \n",
            " 10  FireplaceQu   616 non-null    object \n",
            " 11  GarageType    1100 non-null   object \n",
            " 12  GarageYrBlt   1100 non-null   float64\n",
            " 13  GarageFinish  1100 non-null   object \n",
            " 14  GarageQual    1100 non-null   object \n",
            " 15  GarageCond    1100 non-null   object \n",
            " 16  PoolQC        5 non-null      object \n",
            " 17  Fence         225 non-null    object \n",
            " 18  MiscFeature   40 non-null     object \n",
            "dtypes: float64(3), object(16)\n",
            "memory usage: 181.4+ KB\n"
          ],
          "name": "stdout"
        }
      ]
    },
    {
      "cell_type": "code",
      "metadata": {
        "id": "kG_6T64OwdFB"
      },
      "source": [
        "# Drop columns that don't have much data\n",
        "\n",
        "columns_to_drop = ['MiscFeature', 'PoolQC', 'Fence', 'FireplaceQu', 'Alley', 'LotFrontage']\n",
        "\n",
        "x_train = x_train.drop(columns=columns_to_drop)\n",
        "x_test = x_test.drop(columns=columns_to_drop) # make sure to do same thing to test set as well\n",
        "\n",
        "for i in columns_to_drop: # remove any dropped column from the category columns list, since I'm going to use it later\n",
        "  if i in cat_columns:\n",
        "    cat_columns.remove(i)"
      ],
      "execution_count": 32,
      "outputs": []
    },
    {
      "cell_type": "markdown",
      "metadata": {
        "id": "RRekeBLByOKV"
      },
      "source": [
        "As for the other columns with missing values, I am going to impute the values depending on the column. I could just delete those rows instead, but that might get rid of important information."
      ]
    },
    {
      "cell_type": "code",
      "metadata": {
        "id": "pAaVrckx9JKO"
      },
      "source": [
        "columns_to_impute = ['MasVnrType','MasVnrArea','BsmtQual','BsmtCond','BsmtExposure','Electrical','BsmtFinType1',\n",
        "                     'BsmtFinType2','GarageType','GarageYrBlt','GarageFinish','GarageQual','GarageCond'] "
      ],
      "execution_count": 34,
      "outputs": []
    },
    {
      "cell_type": "markdown",
      "metadata": {
        "id": "bB9VOx-bpjfj"
      },
      "source": [
        "There are two numerical columns and the rest are categorical. For the 'MasVnrArea' column, I am going to fill the null values with 0, since these instances most likely don't have a masonry veneer area at all. For the garage year built column, I am going to fill the null values with the mean."
      ]
    },
    {
      "cell_type": "code",
      "metadata": {
        "id": "8f8mPjCXmFON"
      },
      "source": [
        "# Impute Garage Year Built nulls with mean\n",
        "\n",
        "x_train['GarageYrBlt'] = x_train['GarageYrBlt'].fillna(np.mean(x_train['GarageYrBlt']))\n",
        "x_test['GarageYrBlt'] = x_test['GarageYrBlt'].fillna(np.mean(x_train['GarageYrBlt']))\n",
        "\n",
        "# Impute 'MasVnrArea' nulls with 0.0\n",
        "\n",
        "x_train['MasVnrArea'] = x_train['MasVnrArea'].fillna(0.0)\n",
        "x_test['MasVnrArea'] = x_test['MasVnrArea'].fillna(0.0)"
      ],
      "execution_count": 35,
      "outputs": []
    },
    {
      "cell_type": "markdown",
      "metadata": {
        "id": "w8YdY_6mp_Co"
      },
      "source": [
        "And for the categorical columns, I am going to fill the null values with the most frequent category"
      ]
    },
    {
      "cell_type": "code",
      "metadata": {
        "id": "hhqGVN2t_WNa"
      },
      "source": [
        "# Imputing\n",
        "\n",
        "from sklearn.impute import SimpleImputer\n",
        "\n",
        "imp = SimpleImputer(strategy='most_frequent').fit(x_train)\n",
        "\n",
        "x_train_imp = pd.DataFrame(imp.transform(x_train), index = x_train.index, columns = x_train.columns)\n",
        "x_test_imp = pd.DataFrame(imp.transform(x_test), index = x_test.index, columns = x_test.columns)"
      ],
      "execution_count": 36,
      "outputs": []
    },
    {
      "cell_type": "markdown",
      "metadata": {
        "id": "pItB6GdxqNjU"
      },
      "source": [
        "Now there are no more null values, so we can encode the categorical columns"
      ]
    },
    {
      "cell_type": "code",
      "metadata": {
        "id": "rCluGe2mfZI1",
        "outputId": "65cf534d-7292-49b6-bdcc-a84442d21ea6",
        "colab": {
          "base_uri": "https://localhost:8080/",
          "height": 303
        }
      },
      "source": [
        "!pip3 install category_encoders # This library isn't already available on Colab, so I'm installing it"
      ],
      "execution_count": 37,
      "outputs": [
        {
          "output_type": "stream",
          "text": [
            "Collecting category_encoders\n",
            "\u001b[?25l  Downloading https://files.pythonhosted.org/packages/44/57/fcef41c248701ee62e8325026b90c432adea35555cbc870aff9cfba23727/category_encoders-2.2.2-py2.py3-none-any.whl (80kB)\n",
            "\r\u001b[K     |████                            | 10kB 13.0MB/s eta 0:00:01\r\u001b[K     |████████▏                       | 20kB 1.7MB/s eta 0:00:01\r\u001b[K     |████████████▏                   | 30kB 2.2MB/s eta 0:00:01\r\u001b[K     |████████████████▎               | 40kB 2.5MB/s eta 0:00:01\r\u001b[K     |████████████████████▎           | 51kB 2.0MB/s eta 0:00:01\r\u001b[K     |████████████████████████▍       | 61kB 2.2MB/s eta 0:00:01\r\u001b[K     |████████████████████████████▍   | 71kB 2.4MB/s eta 0:00:01\r\u001b[K     |████████████████████████████████| 81kB 2.1MB/s \n",
            "\u001b[?25hRequirement already satisfied: statsmodels>=0.9.0 in /usr/local/lib/python3.6/dist-packages (from category_encoders) (0.10.2)\n",
            "Requirement already satisfied: scikit-learn>=0.20.0 in /usr/local/lib/python3.6/dist-packages (from category_encoders) (0.22.2.post1)\n",
            "Requirement already satisfied: patsy>=0.5.1 in /usr/local/lib/python3.6/dist-packages (from category_encoders) (0.5.1)\n",
            "Requirement already satisfied: scipy>=1.0.0 in /usr/local/lib/python3.6/dist-packages (from category_encoders) (1.4.1)\n",
            "Requirement already satisfied: numpy>=1.14.0 in /usr/local/lib/python3.6/dist-packages (from category_encoders) (1.18.5)\n",
            "Requirement already satisfied: pandas>=0.21.1 in /usr/local/lib/python3.6/dist-packages (from category_encoders) (1.1.2)\n",
            "Requirement already satisfied: joblib>=0.11 in /usr/local/lib/python3.6/dist-packages (from scikit-learn>=0.20.0->category_encoders) (0.16.0)\n",
            "Requirement already satisfied: six in /usr/local/lib/python3.6/dist-packages (from patsy>=0.5.1->category_encoders) (1.15.0)\n",
            "Requirement already satisfied: python-dateutil>=2.7.3 in /usr/local/lib/python3.6/dist-packages (from pandas>=0.21.1->category_encoders) (2.8.1)\n",
            "Requirement already satisfied: pytz>=2017.2 in /usr/local/lib/python3.6/dist-packages (from pandas>=0.21.1->category_encoders) (2018.9)\n",
            "Installing collected packages: category-encoders\n",
            "Successfully installed category-encoders-2.2.2\n"
          ],
          "name": "stdout"
        }
      ]
    },
    {
      "cell_type": "code",
      "metadata": {
        "id": "XE8UmDKYdhEM"
      },
      "source": [
        "import category_encoders as ce"
      ],
      "execution_count": 38,
      "outputs": []
    },
    {
      "cell_type": "markdown",
      "metadata": {
        "id": "ADm9drws1E0u"
      },
      "source": [
        "The category encoders library comes with several different encoders. I decided to use Target Encoding, since it generally performs well, and doing something like OneHot Encoding would create a ton of extra columns. "
      ]
    },
    {
      "cell_type": "code",
      "metadata": {
        "id": "NglbW1-Cfet4"
      },
      "source": [
        "# Encoding categorical values\n",
        "\n",
        "enc = ce.target_encoder.TargetEncoder(cols=cat_columns).fit(x_train_imp,y_train)\n",
        "\n",
        "x_train_enc = enc.transform(x_train_imp)\n",
        "x_test_enc = enc.transform(x_test_imp)"
      ],
      "execution_count": 39,
      "outputs": []
    },
    {
      "cell_type": "markdown",
      "metadata": {
        "id": "LGqxIBv52Ut9"
      },
      "source": [
        "Lastly, I'm going to scale the data using a standard scaler."
      ]
    },
    {
      "cell_type": "code",
      "metadata": {
        "id": "B28B87ILlo5p"
      },
      "source": [
        "# Scaling the data\n",
        "\n",
        "from sklearn.preprocessing import StandardScaler\n",
        "\n",
        "scaler = StandardScaler()\n",
        "\n",
        "x_train_scaled = pd.DataFrame(scaler.fit_transform(x_train_enc), index=x_train_enc.index, columns=x_train_enc.columns)\n",
        "x_test_scaled = pd.DataFrame(scaler.transform(x_test_enc), index=x_test_enc.index, columns=x_test_enc.columns)"
      ],
      "execution_count": 40,
      "outputs": []
    },
    {
      "cell_type": "markdown",
      "metadata": {
        "id": "llKVqj4i__U2"
      },
      "source": [
        "# Training"
      ]
    },
    {
      "cell_type": "markdown",
      "metadata": {
        "id": "kRatdIys2yZo"
      },
      "source": [
        "I'm choosing to try three different models which generally perform well with binary classification tasks. These are XGBoost, Logistic Regression, and Support Vector Machine."
      ]
    },
    {
      "cell_type": "code",
      "metadata": {
        "id": "uihTLgeWsnOy"
      },
      "source": [
        "from sklearn.metrics import roc_auc_score\n",
        "\n",
        "preds = [] # holds test predictions\n",
        "auc_list = [] # holds auc scores\n",
        "\n",
        "# Function to train model, make test data predictions, and print AUC score\n",
        "def fit_and_score(model):\n",
        "  model.fit(x_train_scaled,y_train)\n",
        "  temp_preds = np.array(model.predict_proba(x_test_scaled))[:,1]\n",
        "  preds.append(temp_preds)\n",
        "  print(type(model), 'AUC score: ', roc_auc_score(y_test,temp_preds))\n",
        "  auc_list.append(round(roc_auc_score(y_test,temp_preds),5))"
      ],
      "execution_count": 59,
      "outputs": []
    },
    {
      "cell_type": "code",
      "metadata": {
        "id": "QG_NAySqmvqx",
        "outputId": "a179357a-162a-44a3-9e20-3538526f86eb",
        "colab": {
          "base_uri": "https://localhost:8080/",
          "height": 34
        }
      },
      "source": [
        "from xgboost import XGBClassifier\n",
        "\n",
        "model_1 = XGBClassifier(random_state=SEED)\n",
        "\n",
        "fit_and_score(model_1)"
      ],
      "execution_count": 60,
      "outputs": [
        {
          "output_type": "stream",
          "text": [
            "<class 'xgboost.sklearn.XGBClassifier'> AUC score:  0.9876074230912941\n"
          ],
          "name": "stdout"
        }
      ]
    },
    {
      "cell_type": "code",
      "metadata": {
        "id": "9kqRi-BbteIR",
        "outputId": "0090cdd5-7299-46f9-c8e3-9ca3c0a78b1a",
        "colab": {
          "base_uri": "https://localhost:8080/",
          "height": 34
        }
      },
      "source": [
        "from sklearn.linear_model import LogisticRegression\n",
        "\n",
        "model_2 = LogisticRegression(random_state=SEED)\n",
        "\n",
        "fit_and_score(model_2)"
      ],
      "execution_count": 61,
      "outputs": [
        {
          "output_type": "stream",
          "text": [
            "<class 'sklearn.linear_model._logistic.LogisticRegression'> AUC score:  0.9801967866483996\n"
          ],
          "name": "stdout"
        }
      ]
    },
    {
      "cell_type": "code",
      "metadata": {
        "id": "DiF1F-TnZ-gn",
        "outputId": "51d99dd9-f95e-4e57-d610-e85ceebf2943",
        "colab": {
          "base_uri": "https://localhost:8080/",
          "height": 34
        }
      },
      "source": [
        "from sklearn.svm import SVC\n",
        "\n",
        "model_3 = SVC(random_state = SEED, probability=True)\n",
        "\n",
        "fit_and_score(model_3)"
      ],
      "execution_count": 62,
      "outputs": [
        {
          "output_type": "stream",
          "text": [
            "<class 'sklearn.svm._classes.SVC'> AUC score:  0.989351102254328\n"
          ],
          "name": "stdout"
        }
      ]
    },
    {
      "cell_type": "markdown",
      "metadata": {
        "id": "GHsTe5jZrARL"
      },
      "source": [
        "I'm also going to average these three models' predictions to see if they can perform better together"
      ]
    },
    {
      "cell_type": "code",
      "metadata": {
        "id": "dyKN6L0ZaADH",
        "outputId": "2bb8d0b0-0fe1-4119-9359-ca91f5ff874f",
        "colab": {
          "base_uri": "https://localhost:8080/",
          "height": 34
        }
      },
      "source": [
        "avg_preds = np.mean(preds,axis=0)\n",
        "auc_list.append(round(roc_auc_score(y_test,avg_preds),5))\n",
        "print('Combined AUC score: ', roc_auc_score(y_test,avg_preds))"
      ],
      "execution_count": 63,
      "outputs": [
        {
          "output_type": "stream",
          "text": [
            "Combined AUC score:  0.9905965873707809\n"
          ],
          "name": "stdout"
        }
      ]
    },
    {
      "cell_type": "markdown",
      "metadata": {
        "id": "AztQQt-nABNs"
      },
      "source": [
        "# Evaluation"
      ]
    },
    {
      "cell_type": "markdown",
      "metadata": {
        "id": "7gJ0UKO8rLLk"
      },
      "source": [
        "Comparing AUC Scores by model"
      ]
    },
    {
      "cell_type": "code",
      "metadata": {
        "id": "Q5JIR6zj3922",
        "outputId": "6a652b26-7c62-4c65-ac32-989122de9c01",
        "colab": {
          "base_uri": "https://localhost:8080/",
          "height": 167
        }
      },
      "source": [
        "model_list = ['XGBoost','Logistic Regression','Support Vector Machine','Average Ensemble']\n",
        "\n",
        "\n",
        "models_ranked_df = pd.DataFrame(data={'Model': model_list,'AUC Score': auc_list})\n",
        "models_ranked_df.sort_values(by='AUC Score', ascending = False)"
      ],
      "execution_count": 68,
      "outputs": [
        {
          "output_type": "execute_result",
          "data": {
            "text/html": [
              "<div>\n",
              "<style scoped>\n",
              "    .dataframe tbody tr th:only-of-type {\n",
              "        vertical-align: middle;\n",
              "    }\n",
              "\n",
              "    .dataframe tbody tr th {\n",
              "        vertical-align: top;\n",
              "    }\n",
              "\n",
              "    .dataframe thead th {\n",
              "        text-align: right;\n",
              "    }\n",
              "</style>\n",
              "<table border=\"1\" class=\"dataframe\">\n",
              "  <thead>\n",
              "    <tr style=\"text-align: right;\">\n",
              "      <th></th>\n",
              "      <th>Model</th>\n",
              "      <th>AUC Score</th>\n",
              "    </tr>\n",
              "  </thead>\n",
              "  <tbody>\n",
              "    <tr>\n",
              "      <th>3</th>\n",
              "      <td>Average Ensemble</td>\n",
              "      <td>0.99060</td>\n",
              "    </tr>\n",
              "    <tr>\n",
              "      <th>2</th>\n",
              "      <td>Support Vector Machine</td>\n",
              "      <td>0.98935</td>\n",
              "    </tr>\n",
              "    <tr>\n",
              "      <th>0</th>\n",
              "      <td>XGBoost</td>\n",
              "      <td>0.98761</td>\n",
              "    </tr>\n",
              "    <tr>\n",
              "      <th>1</th>\n",
              "      <td>Logistic Regression</td>\n",
              "      <td>0.98020</td>\n",
              "    </tr>\n",
              "  </tbody>\n",
              "</table>\n",
              "</div>"
            ],
            "text/plain": [
              "                    Model  AUC Score\n",
              "3        Average Ensemble    0.99060\n",
              "2  Support Vector Machine    0.98935\n",
              "0                 XGBoost    0.98761\n",
              "1     Logistic Regression    0.98020"
            ]
          },
          "metadata": {
            "tags": []
          },
          "execution_count": 68
        }
      ]
    },
    {
      "cell_type": "markdown",
      "metadata": {
        "id": "vsFeG8UYrZF_"
      },
      "source": [
        "0.99 is a really good Area Under the Curve! This means there are only a few instances that the model misclassifies. Each model by themself performed very well too, with Support Vector Machine slightly doing the best. Now I will graph a confusion matrix to see how many instances the ensemble model misclassified. "
      ]
    },
    {
      "cell_type": "code",
      "metadata": {
        "id": "o1b25Cx0gYas"
      },
      "source": [
        "from sklearn import metrics\n",
        "import seaborn as sn"
      ],
      "execution_count": 51,
      "outputs": []
    },
    {
      "cell_type": "code",
      "metadata": {
        "id": "Au7g7mdhgZbH",
        "outputId": "8e8054ff-33ca-4e6e-d648-e02baf9561e9",
        "colab": {
          "base_uri": "https://localhost:8080/",
          "height": 362
        }
      },
      "source": [
        "### Plot confusion matrix heat map\n",
        "\n",
        "data = metrics.confusion_matrix(y_test, [int(round(i)) for i in avg_preds]) # Need to round each probability to get class\n",
        "df_cm = pd.DataFrame(data, columns = [0,1], index = [0,1])\n",
        "df_cm.index.name = 'Actual'\n",
        "df_cm.columns.name = 'Predicted'\n",
        "plt.figure(figsize = (7,5))\n",
        "sn.set(font_scale=1.3)\n",
        "sn.heatmap(df_cm, cmap = \"Blues\", annot = True, annot_kws = {\"size\": 16})"
      ],
      "execution_count": 76,
      "outputs": [
        {
          "output_type": "execute_result",
          "data": {
            "text/plain": [
              "<matplotlib.axes._subplots.AxesSubplot at 0x7fa628491320>"
            ]
          },
          "metadata": {
            "tags": []
          },
          "execution_count": 76
        },
        {
          "output_type": "display_data",
          "data": {
            "image/png": "[encoded data removed]",
            "text/plain": [
              "<Figure size 504x360 with 2 Axes>"
            ]
          },
          "metadata": {
            "tags": []
          }
        }
      ]
    },
    {
      "cell_type": "markdown",
      "metadata": {
        "id": "-e7Rgw6OsOQI"
      },
      "source": [
        "Looks like the ensemble only misclassified 10 instances. It also misclassified the same amount under \\$200,000  as over \\$200,000 which is good. Clearly, class 0 is much darker because the majority of instances are under $200,000"
      ]
    },
    {
      "cell_type": "code",
      "metadata": {
        "id": "OQL_rJNStGLV",
        "outputId": "be9f6250-7c6b-4ee1-da42-abd72410c6d3",
        "colab": {
          "base_uri": "https://localhost:8080/",
          "height": 176
        }
      },
      "source": [
        "print(metrics.classification_report(y_test,[int(round(i)) for i in avg_preds]))"
      ],
      "execution_count": 53,
      "outputs": [
        {
          "output_type": "stream",
          "text": [
            "              precision    recall  f1-score   support\n",
            "\n",
            "           0       0.98      0.98      0.98       217\n",
            "           1       0.93      0.93      0.93        74\n",
            "\n",
            "    accuracy                           0.97       291\n",
            "   macro avg       0.95      0.95      0.95       291\n",
            "weighted avg       0.97      0.97      0.97       291\n",
            "\n"
          ],
          "name": "stdout"
        }
      ]
    },
    {
      "cell_type": "markdown",
      "metadata": {
        "id": "JuiUCngbuQHv"
      },
      "source": [
        "Although we have the same number of misclassifications for each class, our f1 scores vary because of how many instances there were in each class. Our precision and recall are very high for class 0 (under \\$200,000) because there were many more to classify correctly. And this is the reason our f1-score is a bit lower for class 1."
      ]
    },
    {
      "cell_type": "code",
      "metadata": {
        "id": "blbQoNmZhRA0",
        "outputId": "9bdec8fa-0324-480f-f634-afe12b22aae6",
        "colab": {
          "base_uri": "https://localhost:8080/",
          "height": 472
        }
      },
      "source": [
        "# Plot ROC AUC graph\n",
        "\n",
        "fpr, tpr, threshold = metrics.roc_curve(y_test, avg_preds)\n",
        "roc_auc = metrics.auc(fpr, tpr)\n",
        "\n",
        "plt.figure(figsize=(7,7))\n",
        "plt.title('Receiver Operating Characteristic')\n",
        "plt.plot(fpr, tpr, 'b', label = 'AUC = %0.3f' % roc_auc)\n",
        "plt.legend(loc = 'lower right')\n",
        "plt.plot([0, 1], [0, 1],'r--')\n",
        "plt.xlim([0, 1])\n",
        "plt.ylim([0, 1])\n",
        "plt.ylabel('True Positive Rate')\n",
        "plt.xlabel('False Positive Rate')\n",
        "plt.show()"
      ],
      "execution_count": 77,
      "outputs": [
        {
          "output_type": "display_data",
          "data": {
            "image/png": "[encoded data removed]",
            "text/plain": [
              "<Figure size 504x504 with 1 Axes>"
            ]
          },
          "metadata": {
            "tags": []
          }
        }
      ]
    },
    {
      "cell_type": "markdown",
      "metadata": {
        "id": "oPZq4frsvObA"
      },
      "source": [
        "The ROC curve is near perfect, with only a tiny bit of area not being captured. \n",
        "\n",
        "The XGBoost model also shows how important each feature was in it's decisions, so I'll finish off by looking at that."
      ]
    },
    {
      "cell_type": "code",
      "metadata": {
        "id": "RDnPIvYznHsz"
      },
      "source": [
        "features_ranked_df = pd.DataFrame(data={'feature': x_train_scaled.columns, \n",
        "                                        'importance': model_1.feature_importances_}\n",
        "                                  ).sort_values(by='importance', ascending = False)"
      ],
      "execution_count": 55,
      "outputs": []
    },
    {
      "cell_type": "code",
      "metadata": {
        "id": "tucw_ewMnVfl",
        "outputId": "b4405295-ed1b-4d6f-f7ef-7233ab84b2ac",
        "colab": {
          "base_uri": "https://localhost:8080/",
          "height": 347
        }
      },
      "source": [
        "features_ranked_df[:10]"
      ],
      "execution_count": 56,
      "outputs": [
        {
          "output_type": "execute_result",
          "data": {
            "text/html": [
              "<div>\n",
              "<style scoped>\n",
              "    .dataframe tbody tr th:only-of-type {\n",
              "        vertical-align: middle;\n",
              "    }\n",
              "\n",
              "    .dataframe tbody tr th {\n",
              "        vertical-align: top;\n",
              "    }\n",
              "\n",
              "    .dataframe thead th {\n",
              "        text-align: right;\n",
              "    }\n",
              "</style>\n",
              "<table border=\"1\" class=\"dataframe\">\n",
              "  <thead>\n",
              "    <tr style=\"text-align: right;\">\n",
              "      <th></th>\n",
              "      <th>feature</th>\n",
              "      <th>importance</th>\n",
              "    </tr>\n",
              "  </thead>\n",
              "  <tbody>\n",
              "    <tr>\n",
              "      <th>24</th>\n",
              "      <td>ExterQual</td>\n",
              "      <td>0.201873</td>\n",
              "    </tr>\n",
              "    <tr>\n",
              "      <th>14</th>\n",
              "      <td>OverallQual</td>\n",
              "      <td>0.193594</td>\n",
              "    </tr>\n",
              "    <tr>\n",
              "      <th>50</th>\n",
              "      <td>KitchenQual</td>\n",
              "      <td>0.092963</td>\n",
              "    </tr>\n",
              "    <tr>\n",
              "      <th>43</th>\n",
              "      <td>GrLivArea</td>\n",
              "      <td>0.050068</td>\n",
              "    </tr>\n",
              "    <tr>\n",
              "      <th>9</th>\n",
              "      <td>Neighborhood</td>\n",
              "      <td>0.046607</td>\n",
              "    </tr>\n",
              "    <tr>\n",
              "      <th>35</th>\n",
              "      <td>TotalBsmtSF</td>\n",
              "      <td>0.041104</td>\n",
              "    </tr>\n",
              "    <tr>\n",
              "      <th>54</th>\n",
              "      <td>GarageType</td>\n",
              "      <td>0.025352</td>\n",
              "    </tr>\n",
              "    <tr>\n",
              "      <th>31</th>\n",
              "      <td>BsmtFinSF1</td>\n",
              "      <td>0.024452</td>\n",
              "    </tr>\n",
              "    <tr>\n",
              "      <th>21</th>\n",
              "      <td>Exterior2nd</td>\n",
              "      <td>0.024199</td>\n",
              "    </tr>\n",
              "    <tr>\n",
              "      <th>22</th>\n",
              "      <td>MasVnrType</td>\n",
              "      <td>0.021968</td>\n",
              "    </tr>\n",
              "  </tbody>\n",
              "</table>\n",
              "</div>"
            ],
            "text/plain": [
              "         feature  importance\n",
              "24     ExterQual    0.201873\n",
              "14   OverallQual    0.193594\n",
              "50   KitchenQual    0.092963\n",
              "43     GrLivArea    0.050068\n",
              "9   Neighborhood    0.046607\n",
              "35   TotalBsmtSF    0.041104\n",
              "54    GarageType    0.025352\n",
              "31    BsmtFinSF1    0.024452\n",
              "21   Exterior2nd    0.024199\n",
              "22    MasVnrType    0.021968"
            ]
          },
          "metadata": {
            "tags": []
          },
          "execution_count": 56
        }
      ]
    },
    {
      "cell_type": "markdown",
      "metadata": {
        "id": "216sm9n9zGAG"
      },
      "source": [
        "These results are a bit interesting. I expected OverallQual to be number one since it was so highly correlated to SalePrice. Furthermore, the top 3 are all Quality type features, and together hold about 50% of the overall importance. It turns out the categorical columns were very important as well!"
      ]
    },
    {
      "cell_type": "markdown",
      "metadata": {
        "id": "s9Jdp1ygwbX3"
      },
      "source": [
        "The models all ended up performing very well. After all, it is not too complicated of a task, especially with how many features there are. The model's performance can be verified further by testing it on more data - there were only 74 houses over $200,000 in the test data. \n",
        "\n",
        "It could also be improved in several different ways. First and foremost is training with more data. Another idea would be to train more models. There are several that weren't mentioned that could be added to the ensemble. I also did not attempt to optimize each models' hyperparameters. Implementing grid search or random search would help each model perform better. I also didn't play around with the features much. The models might perform better with some features deleted or created. Lastly, performing other ensemble techniques like bagging and boosting would certainly help classify those last few intances correctly.\n",
        "\n",
        "Overall, I am happy with the results I achieved and I now have a model which can very accurately classify higher selling houses from lower selling houses. I also now know what contributes most to these classifications."
      ]
    }
  ]
}